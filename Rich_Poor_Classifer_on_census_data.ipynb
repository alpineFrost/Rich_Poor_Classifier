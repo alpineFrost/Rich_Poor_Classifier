{
  "nbformat": 4,
  "nbformat_minor": 0,
  "metadata": {
    "colab": {
      "name": "Assignment2 Classification.ipynb",
      "provenance": [],
      "collapsed_sections": []
    },
    "kernelspec": {
      "name": "python3",
      "display_name": "Python 3"
    },
    "language_info": {
      "name": "python"
    }
  },
  "cells": [
    {
      "cell_type": "code",
      "metadata": {
        "colab": {
          "base_uri": "https://localhost:8080/"
        },
        "id": "IvkMvYktrAPW",
        "outputId": "adb77dad-07d7-4661-bdf2-7a22433cb5d9"
      },
      "source": [
        "from google.colab import drive\n",
        "drive.mount('/content/drive')"
      ],
      "execution_count": null,
      "outputs": [
        {
          "output_type": "stream",
          "name": "stdout",
          "text": [
            "Mounted at /content/drive\n"
          ]
        }
      ]
    },
    {
      "cell_type": "code",
      "metadata": {
        "id": "N58ckfVLrL5g"
      },
      "source": [
        "import pandas as pd\n",
        "import numpy as np"
      ],
      "execution_count": null,
      "outputs": []
    },
    {
      "cell_type": "code",
      "metadata": {
        "id": "N13G4aOQrMQ2"
      },
      "source": [
        "TRAIN_FILE = '/content/drive/MyDrive/ML_Assignment_2/train.csv'\n",
        "TEST_FILE = '/content/drive/MyDrive/ML_Assignment_2/test.csv'"
      ],
      "execution_count": null,
      "outputs": []
    },
    {
      "cell_type": "markdown",
      "metadata": {
        "id": "3RQVJ0RbQGSz"
      },
      "source": [
        "# TRAIN PREPROCESSING"
      ]
    },
    {
      "cell_type": "code",
      "metadata": {
        "id": "OFRcqmB_rSJQ"
      },
      "source": [
        "census_df = pd.read_csv(TRAIN_FILE);"
      ],
      "execution_count": null,
      "outputs": []
    },
    {
      "cell_type": "code",
      "metadata": {
        "colab": {
          "base_uri": "https://localhost:8080/",
          "height": 338
        },
        "id": "JeZgFOW3rW9o",
        "outputId": "905c92ca-5431-4739-cec2-018cf94acc98"
      },
      "source": [
        "census_df.head()"
      ],
      "execution_count": null,
      "outputs": [
        {
          "output_type": "execute_result",
          "data": {
            "text/html": [
              "<div>\n",
              "<style scoped>\n",
              "    .dataframe tbody tr th:only-of-type {\n",
              "        vertical-align: middle;\n",
              "    }\n",
              "\n",
              "    .dataframe tbody tr th {\n",
              "        vertical-align: top;\n",
              "    }\n",
              "\n",
              "    .dataframe thead th {\n",
              "        text-align: right;\n",
              "    }\n",
              "</style>\n",
              "<table border=\"1\" class=\"dataframe\">\n",
              "  <thead>\n",
              "    <tr style=\"text-align: right;\">\n",
              "      <th></th>\n",
              "      <th>age</th>\n",
              "      <th>Working Section</th>\n",
              "      <th>Financial Weight</th>\n",
              "      <th>education</th>\n",
              "      <th>education-num</th>\n",
              "      <th>Marriage Status</th>\n",
              "      <th>occupation</th>\n",
              "      <th>Relationship Status</th>\n",
              "      <th>Skin Color</th>\n",
              "      <th>Gender</th>\n",
              "      <th>Capital Gain</th>\n",
              "      <th>Capital Loss</th>\n",
              "      <th>hours-per-week</th>\n",
              "      <th>Country</th>\n",
              "      <th>id</th>\n",
              "      <th>Predictions</th>\n",
              "    </tr>\n",
              "  </thead>\n",
              "  <tbody>\n",
              "    <tr>\n",
              "      <th>0</th>\n",
              "      <td>48</td>\n",
              "      <td>Private</td>\n",
              "      <td>138970</td>\n",
              "      <td>Bachelors</td>\n",
              "      <td>13</td>\n",
              "      <td>Married Civilian</td>\n",
              "      <td>Exec-managerial</td>\n",
              "      <td>Husband</td>\n",
              "      <td>White</td>\n",
              "      <td>Male</td>\n",
              "      <td>0</td>\n",
              "      <td>0</td>\n",
              "      <td>45</td>\n",
              "      <td>United-States</td>\n",
              "      <td>6900</td>\n",
              "      <td>Rich</td>\n",
              "    </tr>\n",
              "    <tr>\n",
              "      <th>1</th>\n",
              "      <td>21</td>\n",
              "      <td>State Govenment</td>\n",
              "      <td>96483</td>\n",
              "      <td>Some-college</td>\n",
              "      <td>10</td>\n",
              "      <td>No Marriage</td>\n",
              "      <td>Adm-clerical</td>\n",
              "      <td>Own-child</td>\n",
              "      <td>Asian-Pac-Islander</td>\n",
              "      <td>Female</td>\n",
              "      <td>0</td>\n",
              "      <td>0</td>\n",
              "      <td>12</td>\n",
              "      <td>United-States</td>\n",
              "      <td>27355</td>\n",
              "      <td>Poor</td>\n",
              "    </tr>\n",
              "    <tr>\n",
              "      <th>2</th>\n",
              "      <td>49</td>\n",
              "      <td>Private</td>\n",
              "      <td>228583</td>\n",
              "      <td>HS-grad</td>\n",
              "      <td>9</td>\n",
              "      <td>Divorced</td>\n",
              "      <td>Other-service</td>\n",
              "      <td>Unmarried</td>\n",
              "      <td>White</td>\n",
              "      <td>Male</td>\n",
              "      <td>0</td>\n",
              "      <td>0</td>\n",
              "      <td>40</td>\n",
              "      <td>Columbia</td>\n",
              "      <td>12701</td>\n",
              "      <td>Poor</td>\n",
              "    </tr>\n",
              "    <tr>\n",
              "      <th>3</th>\n",
              "      <td>40</td>\n",
              "      <td>Private</td>\n",
              "      <td>130760</td>\n",
              "      <td>Assoc-voc</td>\n",
              "      <td>11</td>\n",
              "      <td>Married Civilian</td>\n",
              "      <td>Exec-managerial</td>\n",
              "      <td>Husband</td>\n",
              "      <td>White</td>\n",
              "      <td>Male</td>\n",
              "      <td>0</td>\n",
              "      <td>0</td>\n",
              "      <td>50</td>\n",
              "      <td>United-States</td>\n",
              "      <td>782</td>\n",
              "      <td>Rich</td>\n",
              "    </tr>\n",
              "    <tr>\n",
              "      <th>4</th>\n",
              "      <td>55</td>\n",
              "      <td>Local Government</td>\n",
              "      <td>223716</td>\n",
              "      <td>Some-college</td>\n",
              "      <td>10</td>\n",
              "      <td>Divorced</td>\n",
              "      <td>Exec-managerial</td>\n",
              "      <td>Not-in-family</td>\n",
              "      <td>Amer-Indian-Eskimo</td>\n",
              "      <td>Female</td>\n",
              "      <td>0</td>\n",
              "      <td>0</td>\n",
              "      <td>40</td>\n",
              "      <td>United-States</td>\n",
              "      <td>20462</td>\n",
              "      <td>Poor</td>\n",
              "    </tr>\n",
              "  </tbody>\n",
              "</table>\n",
              "</div>"
            ],
            "text/plain": [
              "   age   Working Section  Financial Weight  ...        Country     id Predictions\n",
              "0   48           Private            138970  ...  United-States   6900        Rich\n",
              "1   21   State Govenment             96483  ...  United-States  27355        Poor\n",
              "2   49           Private            228583  ...       Columbia  12701        Poor\n",
              "3   40           Private            130760  ...  United-States    782        Rich\n",
              "4   55  Local Government            223716  ...  United-States  20462        Poor\n",
              "\n",
              "[5 rows x 16 columns]"
            ]
          },
          "metadata": {},
          "execution_count": 6
        }
      ]
    },
    {
      "cell_type": "code",
      "metadata": {
        "id": "otakot5HrZFz",
        "colab": {
          "base_uri": "https://localhost:8080/"
        },
        "outputId": "c53859f8-7da7-4ca3-92e9-1fc8423f1c6a"
      },
      "source": [
        "census_df.isna().sum()"
      ],
      "execution_count": null,
      "outputs": [
        {
          "output_type": "execute_result",
          "data": {
            "text/plain": [
              "age                    0\n",
              "Working Section        0\n",
              "Financial Weight       0\n",
              "education              0\n",
              "education-num          0\n",
              "Marriage Status        0\n",
              "occupation             0\n",
              "Relationship Status    0\n",
              "Skin Color             0\n",
              "Gender                 0\n",
              "Capital Gain           0\n",
              "Capital Loss           0\n",
              "hours-per-week         0\n",
              "Country                0\n",
              "id                     0\n",
              "Predictions            0\n",
              "dtype: int64"
            ]
          },
          "metadata": {},
          "execution_count": 7
        }
      ]
    },
    {
      "cell_type": "code",
      "metadata": {
        "id": "LrhLIPCGrc9V",
        "colab": {
          "base_uri": "https://localhost:8080/"
        },
        "outputId": "949d85c5-1ff5-4b46-9436-47df5424c9c5"
      },
      "source": [
        "census_df['Country'].value_counts()"
      ],
      "execution_count": null,
      "outputs": [
        {
          "output_type": "execute_result",
          "data": {
            "text/plain": [
              "United-States                 20382\n",
              "Mexico                          465\n",
              "?                               413\n",
              "Philippines                     134\n",
              "Germany                          92\n",
              "Puerto-Rico                      88\n",
              "Canada                           85\n",
              "El-Salvador                      81\n",
              "Cuba                             73\n",
              "India                            66\n",
              "England                          59\n",
              "Jamaica                          59\n",
              "Dominican-Republic               57\n",
              "Vietnam                          51\n",
              "China                            50\n",
              "Columbia                         49\n",
              "Poland                           48\n",
              "South                            48\n",
              "Guatemala                        48\n",
              "Italy                            46\n",
              "Japan                            42\n",
              "Taiwan                           39\n",
              "Iran                             30\n",
              "Portugal                         29\n",
              "Haiti                            29\n",
              "Greece                           23\n",
              "Peru                             21\n",
              "France                           20\n",
              "Nicaragua                        20\n",
              "Ecuador                          19\n",
              "Ireland                          18\n",
              "Trinadad&Tobago                  15\n",
              "Cambodia                         14\n",
              "Hong                             13\n",
              "Thailand                         12\n",
              "Laos                             11\n",
              "Outlying-US(Guam-USVI-etc)       10\n",
              "Honduras                         10\n",
              "Hungary                           8\n",
              "Yugoslavia                        8\n",
              "Scotland                          6\n",
              "Holand-Netherlands                1\n",
              "Name: Country, dtype: int64"
            ]
          },
          "metadata": {},
          "execution_count": 8
        }
      ]
    },
    {
      "cell_type": "code",
      "metadata": {
        "colab": {
          "base_uri": "https://localhost:8080/"
        },
        "id": "AMavehoTsUUf",
        "outputId": "dbd80b6c-4268-45d4-8b01-02ca96a93ca7"
      },
      "source": [
        "(census_df == '?').sum()"
      ],
      "execution_count": null,
      "outputs": [
        {
          "output_type": "execute_result",
          "data": {
            "text/plain": [
              "age                       0\n",
              "Working Section        1266\n",
              "Financial Weight          0\n",
              "education                 0\n",
              "education-num             0\n",
              "Marriage Status           0\n",
              "occupation             1270\n",
              "Relationship Status       0\n",
              "Skin Color                0\n",
              "Gender                    0\n",
              "Capital Gain              0\n",
              "Capital Loss              0\n",
              "hours-per-week            0\n",
              "Country                 413\n",
              "id                        0\n",
              "Predictions               0\n",
              "dtype: int64"
            ]
          },
          "metadata": {},
          "execution_count": 9
        }
      ]
    },
    {
      "cell_type": "code",
      "metadata": {
        "id": "bHqEnFrbsdYi"
      },
      "source": [
        "census_df = census_df.drop('Country', axis = 1)"
      ],
      "execution_count": null,
      "outputs": []
    },
    {
      "cell_type": "code",
      "metadata": {
        "colab": {
          "base_uri": "https://localhost:8080/"
        },
        "id": "XQBWwtFttgNW",
        "outputId": "70b1e70f-76e4-49ce-e19f-71f389f226a0"
      },
      "source": [
        "census_df['occupation'].value_counts()"
      ],
      "execution_count": null,
      "outputs": [
        {
          "output_type": "execute_result",
          "data": {
            "text/plain": [
              "Prof-specialty       2967\n",
              "Craft-repair         2891\n",
              "Exec-managerial      2799\n",
              "Adm-clerical         2624\n",
              "Sales                2607\n",
              "Other-service        2272\n",
              "Machine-op-inspct    1432\n",
              "?                    1270\n",
              "Transport-moving     1094\n",
              "Handlers-cleaners     965\n",
              "Farming-fishing       657\n",
              "Tech-support          645\n",
              "Protective-serv       456\n",
              "Priv-house-serv       105\n",
              "Armed-Forces            8\n",
              "Name: occupation, dtype: int64"
            ]
          },
          "metadata": {},
          "execution_count": 11
        }
      ]
    },
    {
      "cell_type": "code",
      "metadata": {
        "colab": {
          "base_uri": "https://localhost:8080/"
        },
        "id": "_CKw34CUtvad",
        "outputId": "2ff2ea2d-16ee-4c34-bd46-43c4df1c6eb4"
      },
      "source": [
        "census_df['Working Section'].value_counts()"
      ],
      "execution_count": null,
      "outputs": [
        {
          "output_type": "execute_result",
          "data": {
            "text/plain": [
              "Private                 15895\n",
              "Self Employed No Inc     1798\n",
              "Local Government         1459\n",
              "?                        1266\n",
              "State Govenment           943\n",
              "Self Employed + Inc       771\n",
              "Police                    647\n",
              "No Pay                      9\n",
              "Never Worked                4\n",
              "Name: Working Section, dtype: int64"
            ]
          },
          "metadata": {},
          "execution_count": 12
        }
      ]
    },
    {
      "cell_type": "code",
      "metadata": {
        "id": "P6GVGEj7t8i3"
      },
      "source": [
        "census_df = census_df.drop('Working Section', axis = 1)"
      ],
      "execution_count": null,
      "outputs": []
    },
    {
      "cell_type": "code",
      "metadata": {
        "colab": {
          "base_uri": "https://localhost:8080/",
          "height": 287
        },
        "id": "daUk6FqquRb9",
        "outputId": "6a15e100-1fce-452d-fa21-b311375c9e84"
      },
      "source": [
        "census_df.head()"
      ],
      "execution_count": null,
      "outputs": [
        {
          "output_type": "execute_result",
          "data": {
            "text/html": [
              "<div>\n",
              "<style scoped>\n",
              "    .dataframe tbody tr th:only-of-type {\n",
              "        vertical-align: middle;\n",
              "    }\n",
              "\n",
              "    .dataframe tbody tr th {\n",
              "        vertical-align: top;\n",
              "    }\n",
              "\n",
              "    .dataframe thead th {\n",
              "        text-align: right;\n",
              "    }\n",
              "</style>\n",
              "<table border=\"1\" class=\"dataframe\">\n",
              "  <thead>\n",
              "    <tr style=\"text-align: right;\">\n",
              "      <th></th>\n",
              "      <th>age</th>\n",
              "      <th>Financial Weight</th>\n",
              "      <th>education</th>\n",
              "      <th>education-num</th>\n",
              "      <th>Marriage Status</th>\n",
              "      <th>occupation</th>\n",
              "      <th>Relationship Status</th>\n",
              "      <th>Skin Color</th>\n",
              "      <th>Gender</th>\n",
              "      <th>Capital Gain</th>\n",
              "      <th>Capital Loss</th>\n",
              "      <th>hours-per-week</th>\n",
              "      <th>id</th>\n",
              "      <th>Predictions</th>\n",
              "    </tr>\n",
              "  </thead>\n",
              "  <tbody>\n",
              "    <tr>\n",
              "      <th>0</th>\n",
              "      <td>48</td>\n",
              "      <td>138970</td>\n",
              "      <td>Bachelors</td>\n",
              "      <td>13</td>\n",
              "      <td>Married Civilian</td>\n",
              "      <td>Exec-managerial</td>\n",
              "      <td>Husband</td>\n",
              "      <td>White</td>\n",
              "      <td>Male</td>\n",
              "      <td>0</td>\n",
              "      <td>0</td>\n",
              "      <td>45</td>\n",
              "      <td>6900</td>\n",
              "      <td>Rich</td>\n",
              "    </tr>\n",
              "    <tr>\n",
              "      <th>1</th>\n",
              "      <td>21</td>\n",
              "      <td>96483</td>\n",
              "      <td>Some-college</td>\n",
              "      <td>10</td>\n",
              "      <td>No Marriage</td>\n",
              "      <td>Adm-clerical</td>\n",
              "      <td>Own-child</td>\n",
              "      <td>Asian-Pac-Islander</td>\n",
              "      <td>Female</td>\n",
              "      <td>0</td>\n",
              "      <td>0</td>\n",
              "      <td>12</td>\n",
              "      <td>27355</td>\n",
              "      <td>Poor</td>\n",
              "    </tr>\n",
              "    <tr>\n",
              "      <th>2</th>\n",
              "      <td>49</td>\n",
              "      <td>228583</td>\n",
              "      <td>HS-grad</td>\n",
              "      <td>9</td>\n",
              "      <td>Divorced</td>\n",
              "      <td>Other-service</td>\n",
              "      <td>Unmarried</td>\n",
              "      <td>White</td>\n",
              "      <td>Male</td>\n",
              "      <td>0</td>\n",
              "      <td>0</td>\n",
              "      <td>40</td>\n",
              "      <td>12701</td>\n",
              "      <td>Poor</td>\n",
              "    </tr>\n",
              "    <tr>\n",
              "      <th>3</th>\n",
              "      <td>40</td>\n",
              "      <td>130760</td>\n",
              "      <td>Assoc-voc</td>\n",
              "      <td>11</td>\n",
              "      <td>Married Civilian</td>\n",
              "      <td>Exec-managerial</td>\n",
              "      <td>Husband</td>\n",
              "      <td>White</td>\n",
              "      <td>Male</td>\n",
              "      <td>0</td>\n",
              "      <td>0</td>\n",
              "      <td>50</td>\n",
              "      <td>782</td>\n",
              "      <td>Rich</td>\n",
              "    </tr>\n",
              "    <tr>\n",
              "      <th>4</th>\n",
              "      <td>55</td>\n",
              "      <td>223716</td>\n",
              "      <td>Some-college</td>\n",
              "      <td>10</td>\n",
              "      <td>Divorced</td>\n",
              "      <td>Exec-managerial</td>\n",
              "      <td>Not-in-family</td>\n",
              "      <td>Amer-Indian-Eskimo</td>\n",
              "      <td>Female</td>\n",
              "      <td>0</td>\n",
              "      <td>0</td>\n",
              "      <td>40</td>\n",
              "      <td>20462</td>\n",
              "      <td>Poor</td>\n",
              "    </tr>\n",
              "  </tbody>\n",
              "</table>\n",
              "</div>"
            ],
            "text/plain": [
              "   age  Financial Weight     education  ...  hours-per-week     id Predictions\n",
              "0   48            138970     Bachelors  ...              45   6900        Rich\n",
              "1   21             96483  Some-college  ...              12  27355        Poor\n",
              "2   49            228583       HS-grad  ...              40  12701        Poor\n",
              "3   40            130760     Assoc-voc  ...              50    782        Rich\n",
              "4   55            223716  Some-college  ...              40  20462        Poor\n",
              "\n",
              "[5 rows x 14 columns]"
            ]
          },
          "metadata": {},
          "execution_count": 14
        }
      ]
    },
    {
      "cell_type": "code",
      "metadata": {
        "colab": {
          "base_uri": "https://localhost:8080/"
        },
        "id": "n39g4bFGxdk6",
        "outputId": "ddb447aa-b67a-49db-8cc5-d2b133d9be98"
      },
      "source": [
        "census_df.info()"
      ],
      "execution_count": null,
      "outputs": [
        {
          "output_type": "stream",
          "name": "stdout",
          "text": [
            "<class 'pandas.core.frame.DataFrame'>\n",
            "RangeIndex: 22792 entries, 0 to 22791\n",
            "Data columns (total 14 columns):\n",
            " #   Column               Non-Null Count  Dtype \n",
            "---  ------               --------------  ----- \n",
            " 0   age                  22792 non-null  int64 \n",
            " 1   Financial Weight     22792 non-null  int64 \n",
            " 2   education            22792 non-null  object\n",
            " 3   education-num        22792 non-null  int64 \n",
            " 4   Marriage Status      22792 non-null  object\n",
            " 5   occupation           22792 non-null  object\n",
            " 6   Relationship Status  22792 non-null  object\n",
            " 7   Skin Color           22792 non-null  object\n",
            " 8   Gender               22792 non-null  object\n",
            " 9   Capital Gain         22792 non-null  int64 \n",
            " 10  Capital Loss         22792 non-null  int64 \n",
            " 11  hours-per-week       22792 non-null  int64 \n",
            " 12  id                   22792 non-null  int64 \n",
            " 13  Predictions          22792 non-null  object\n",
            "dtypes: int64(7), object(7)\n",
            "memory usage: 2.4+ MB\n"
          ]
        }
      ]
    },
    {
      "cell_type": "code",
      "metadata": {
        "colab": {
          "base_uri": "https://localhost:8080/",
          "height": 282
        },
        "id": "8fkPgvKTxN6S",
        "outputId": "11ca8a20-f574-4aef-afeb-303945063157"
      },
      "source": [
        "import matplotlib.pyplot as plt\n",
        "\n",
        "numerics = ['age', 'Financial Weight', 'education-num', 'Capital Gain', 'Capital Loss', 'hours-per-week']\n",
        "\n",
        "plt.scatter(census_df['id'], census_df['age']) ## Greater than 85"
      ],
      "execution_count": null,
      "outputs": [
        {
          "output_type": "execute_result",
          "data": {
            "text/plain": [
              "<matplotlib.collections.PathCollection at 0x7f846f3764d0>"
            ]
          },
          "metadata": {},
          "execution_count": 16
        },
        {
          "output_type": "display_data",
          "data": {
            "image/png": "[encoded data removed]",
            "text/plain": [
              "<Figure size 432x288 with 1 Axes>"
            ]
          },
          "metadata": {
            "needs_background": "light"
          }
        }
      ]
    },
    {
      "cell_type": "code",
      "metadata": {
        "colab": {
          "base_uri": "https://localhost:8080/",
          "height": 294
        },
        "id": "s-9k2CR_yaPO",
        "outputId": "e656601b-452c-4190-b06d-d3ccdb944ece"
      },
      "source": [
        "plt.scatter(census_df['id'], census_df['Financial Weight']) ## Greater than 0.8"
      ],
      "execution_count": null,
      "outputs": [
        {
          "output_type": "execute_result",
          "data": {
            "text/plain": [
              "<matplotlib.collections.PathCollection at 0x7f84726fc8d0>"
            ]
          },
          "metadata": {},
          "execution_count": 17
        },
        {
          "output_type": "display_data",
          "data": {
            "image/png": "[encoded data removed]",
            "text/plain": [
              "<Figure size 432x288 with 1 Axes>"
            ]
          },
          "metadata": {
            "needs_background": "light"
          }
        }
      ]
    },
    {
      "cell_type": "code",
      "metadata": {
        "colab": {
          "base_uri": "https://localhost:8080/",
          "height": 282
        },
        "id": "YDM0CXG6ywfI",
        "outputId": "3621115b-234e-40a2-9f9a-9a800d8313d6"
      },
      "source": [
        "plt.scatter(census_df['id'], census_df['education-num'])"
      ],
      "execution_count": null,
      "outputs": [
        {
          "output_type": "execute_result",
          "data": {
            "text/plain": [
              "<matplotlib.collections.PathCollection at 0x7f846edd0d10>"
            ]
          },
          "metadata": {},
          "execution_count": 18
        },
        {
          "output_type": "display_data",
          "data": {
            "image/png": "[encoded data removed]",
            "text/plain": [
              "<Figure size 432x288 with 1 Axes>"
            ]
          },
          "metadata": {
            "needs_background": "light"
          }
        }
      ]
    },
    {
      "cell_type": "code",
      "metadata": {
        "colab": {
          "base_uri": "https://localhost:8080/",
          "height": 282
        },
        "id": "0oyG312by6o1",
        "outputId": "a8256457-e969-4c9b-d5bd-862c59ef8b1c"
      },
      "source": [
        "plt.scatter(census_df['id'], census_df['Capital Gain'])"
      ],
      "execution_count": null,
      "outputs": [
        {
          "output_type": "execute_result",
          "data": {
            "text/plain": [
              "<matplotlib.collections.PathCollection at 0x7f846ed46750>"
            ]
          },
          "metadata": {},
          "execution_count": 19
        },
        {
          "output_type": "display_data",
          "data": {
            "image/png": "[encoded data removed]",
            "text/plain": [
              "<Figure size 432x288 with 1 Axes>"
            ]
          },
          "metadata": {
            "needs_background": "light"
          }
        }
      ]
    },
    {
      "cell_type": "code",
      "metadata": {
        "colab": {
          "base_uri": "https://localhost:8080/",
          "height": 282
        },
        "id": "H--Cb9ipy_V3",
        "outputId": "4c539230-a386-4f61-db95-f0dff7d51448"
      },
      "source": [
        "plt.scatter(census_df['id'], census_df['Capital Loss']) ## Greater than 3000"
      ],
      "execution_count": null,
      "outputs": [
        {
          "output_type": "execute_result",
          "data": {
            "text/plain": [
              "<matplotlib.collections.PathCollection at 0x7f846ed335d0>"
            ]
          },
          "metadata": {},
          "execution_count": 20
        },
        {
          "output_type": "display_data",
          "data": {
            "image/png": "[encoded data removed]",
            "text/plain": [
              "<Figure size 432x288 with 1 Axes>"
            ]
          },
          "metadata": {
            "needs_background": "light"
          }
        }
      ]
    },
    {
      "cell_type": "code",
      "metadata": {
        "colab": {
          "base_uri": "https://localhost:8080/",
          "height": 282
        },
        "id": "K69wdoUAzChJ",
        "outputId": "f978c43b-a37c-4f46-fe1e-58dac3d82c22"
      },
      "source": [
        "plt.scatter(census_df['id'], census_df['hours-per-week'])"
      ],
      "execution_count": null,
      "outputs": [
        {
          "output_type": "execute_result",
          "data": {
            "text/plain": [
              "<matplotlib.collections.PathCollection at 0x7f846ec99bd0>"
            ]
          },
          "metadata": {},
          "execution_count": 21
        },
        {
          "output_type": "display_data",
          "data": {
            "image/png": "[encoded data removed]",
            "text/plain": [
              "<Figure size 432x288 with 1 Axes>"
            ]
          },
          "metadata": {
            "needs_background": "light"
          }
        }
      ]
    },
    {
      "cell_type": "code",
      "metadata": {
        "colab": {
          "base_uri": "https://localhost:8080/",
          "height": 282
        },
        "id": "-ciasFhTz1Q_",
        "outputId": "5882164d-0d16-4881-8d91-ad89565c3cbc"
      },
      "source": [
        "census_df.drop(census_df[census_df['age'] > 85].index, inplace = True)\n",
        "plt.scatter(census_df['id'], census_df['age']) ## Greater than 85"
      ],
      "execution_count": null,
      "outputs": [
        {
          "output_type": "execute_result",
          "data": {
            "text/plain": [
              "<matplotlib.collections.PathCollection at 0x7f846e178fd0>"
            ]
          },
          "metadata": {},
          "execution_count": 22
        },
        {
          "output_type": "display_data",
          "data": {
            "image/png": "[encoded data removed]",
            "text/plain": [
              "<Figure size 432x288 with 1 Axes>"
            ]
          },
          "metadata": {
            "needs_background": "light"
          }
        }
      ]
    },
    {
      "cell_type": "code",
      "metadata": {
        "colab": {
          "base_uri": "https://localhost:8080/",
          "height": 282
        },
        "id": "W8YtY9Be1DKV",
        "outputId": "4ab1a274-efdc-463d-b180-5c24e1ce1a7d"
      },
      "source": [
        "census_df.drop(census_df[census_df['Financial Weight'] > 0.8 * 1e6].index, inplace = True)\n",
        "plt.scatter(census_df['id'], census_df['Financial Weight']) ## Greater than 0.8"
      ],
      "execution_count": null,
      "outputs": [
        {
          "output_type": "execute_result",
          "data": {
            "text/plain": [
              "<matplotlib.collections.PathCollection at 0x7f846e0f2490>"
            ]
          },
          "metadata": {},
          "execution_count": 23
        },
        {
          "output_type": "display_data",
          "data": {
            "image/png": "[encoded data removed]",
            "text/plain": [
              "<Figure size 432x288 with 1 Axes>"
            ]
          },
          "metadata": {
            "needs_background": "light"
          }
        }
      ]
    },
    {
      "cell_type": "code",
      "metadata": {
        "colab": {
          "base_uri": "https://localhost:8080/",
          "height": 282
        },
        "id": "Q86J-Kdg1hAX",
        "outputId": "a1c4fc9d-5ac9-4391-ac76-8923b168ca78"
      },
      "source": [
        "census_df.drop(census_df[census_df['Capital Loss'] > 3000].index, inplace = True)\n",
        "plt.scatter(census_df['id'], census_df['Capital Loss']) ## Greater than 3000"
      ],
      "execution_count": null,
      "outputs": [
        {
          "output_type": "execute_result",
          "data": {
            "text/plain": [
              "<matplotlib.collections.PathCollection at 0x7f846e0e9850>"
            ]
          },
          "metadata": {},
          "execution_count": 24
        },
        {
          "output_type": "display_data",
          "data": {
            "image/png": "[encoded data removed]",
            "text/plain": [
              "<Figure size 432x288 with 1 Axes>"
            ]
          },
          "metadata": {
            "needs_background": "light"
          }
        }
      ]
    },
    {
      "cell_type": "code",
      "metadata": {
        "colab": {
          "base_uri": "https://localhost:8080/",
          "height": 282
        },
        "id": "sP-PUd7M1uIG",
        "outputId": "bdade6ff-72ad-46cc-853b-980d055fbf97"
      },
      "source": [
        "plt.scatter(census_df['id'], census_df['age']) ## Greater than 85"
      ],
      "execution_count": null,
      "outputs": [
        {
          "output_type": "execute_result",
          "data": {
            "text/plain": [
              "<matplotlib.collections.PathCollection at 0x7f846e05b250>"
            ]
          },
          "metadata": {},
          "execution_count": 25
        },
        {
          "output_type": "display_data",
          "data": {
            "image/png": "[encoded data removed]",
            "text/plain": [
              "<Figure size 432x288 with 1 Axes>"
            ]
          },
          "metadata": {
            "needs_background": "light"
          }
        }
      ]
    },
    {
      "cell_type": "code",
      "metadata": {
        "colab": {
          "base_uri": "https://localhost:8080/",
          "height": 295
        },
        "id": "PCeRDDHn2TDn",
        "outputId": "8e6e463d-ec7f-4c9f-80a2-5e40ffa64fc1"
      },
      "source": [
        "census_df.describe()"
      ],
      "execution_count": null,
      "outputs": [
        {
          "output_type": "execute_result",
          "data": {
            "text/html": [
              "<div>\n",
              "<style scoped>\n",
              "    .dataframe tbody tr th:only-of-type {\n",
              "        vertical-align: middle;\n",
              "    }\n",
              "\n",
              "    .dataframe tbody tr th {\n",
              "        vertical-align: top;\n",
              "    }\n",
              "\n",
              "    .dataframe thead th {\n",
              "        text-align: right;\n",
              "    }\n",
              "</style>\n",
              "<table border=\"1\" class=\"dataframe\">\n",
              "  <thead>\n",
              "    <tr style=\"text-align: right;\">\n",
              "      <th></th>\n",
              "      <th>age</th>\n",
              "      <th>Financial Weight</th>\n",
              "      <th>education-num</th>\n",
              "      <th>Capital Gain</th>\n",
              "      <th>Capital Loss</th>\n",
              "      <th>hours-per-week</th>\n",
              "      <th>id</th>\n",
              "    </tr>\n",
              "  </thead>\n",
              "  <tbody>\n",
              "    <tr>\n",
              "      <th>count</th>\n",
              "      <td>22725.000000</td>\n",
              "      <td>22725.000000</td>\n",
              "      <td>22725.000000</td>\n",
              "      <td>22725.000000</td>\n",
              "      <td>22725.000000</td>\n",
              "      <td>22725.000000</td>\n",
              "      <td>22725.000000</td>\n",
              "    </tr>\n",
              "    <tr>\n",
              "      <th>mean</th>\n",
              "      <td>38.472123</td>\n",
              "      <td>189091.920220</td>\n",
              "      <td>10.077228</td>\n",
              "      <td>1054.358328</td>\n",
              "      <td>85.135006</td>\n",
              "      <td>40.454565</td>\n",
              "      <td>16329.792739</td>\n",
              "    </tr>\n",
              "    <tr>\n",
              "      <th>std</th>\n",
              "      <td>13.475501</td>\n",
              "      <td>102460.720232</td>\n",
              "      <td>2.581598</td>\n",
              "      <td>7232.151869</td>\n",
              "      <td>394.732487</td>\n",
              "      <td>12.311226</td>\n",
              "      <td>9394.799634</td>\n",
              "    </tr>\n",
              "    <tr>\n",
              "      <th>min</th>\n",
              "      <td>17.000000</td>\n",
              "      <td>12285.000000</td>\n",
              "      <td>1.000000</td>\n",
              "      <td>0.000000</td>\n",
              "      <td>0.000000</td>\n",
              "      <td>1.000000</td>\n",
              "      <td>0.000000</td>\n",
              "    </tr>\n",
              "    <tr>\n",
              "      <th>25%</th>\n",
              "      <td>28.000000</td>\n",
              "      <td>117760.000000</td>\n",
              "      <td>9.000000</td>\n",
              "      <td>0.000000</td>\n",
              "      <td>0.000000</td>\n",
              "      <td>40.000000</td>\n",
              "      <td>8252.000000</td>\n",
              "    </tr>\n",
              "    <tr>\n",
              "      <th>50%</th>\n",
              "      <td>37.000000</td>\n",
              "      <td>178564.000000</td>\n",
              "      <td>10.000000</td>\n",
              "      <td>0.000000</td>\n",
              "      <td>0.000000</td>\n",
              "      <td>40.000000</td>\n",
              "      <td>16343.000000</td>\n",
              "    </tr>\n",
              "    <tr>\n",
              "      <th>75%</th>\n",
              "      <td>47.000000</td>\n",
              "      <td>237608.000000</td>\n",
              "      <td>12.000000</td>\n",
              "      <td>0.000000</td>\n",
              "      <td>0.000000</td>\n",
              "      <td>45.000000</td>\n",
              "      <td>24475.000000</td>\n",
              "    </tr>\n",
              "    <tr>\n",
              "      <th>max</th>\n",
              "      <td>85.000000</td>\n",
              "      <td>799281.000000</td>\n",
              "      <td>16.000000</td>\n",
              "      <td>99999.000000</td>\n",
              "      <td>2824.000000</td>\n",
              "      <td>99.000000</td>\n",
              "      <td>32560.000000</td>\n",
              "    </tr>\n",
              "  </tbody>\n",
              "</table>\n",
              "</div>"
            ],
            "text/plain": [
              "                age  Financial Weight  ...  hours-per-week            id\n",
              "count  22725.000000      22725.000000  ...    22725.000000  22725.000000\n",
              "mean      38.472123     189091.920220  ...       40.454565  16329.792739\n",
              "std       13.475501     102460.720232  ...       12.311226   9394.799634\n",
              "min       17.000000      12285.000000  ...        1.000000      0.000000\n",
              "25%       28.000000     117760.000000  ...       40.000000   8252.000000\n",
              "50%       37.000000     178564.000000  ...       40.000000  16343.000000\n",
              "75%       47.000000     237608.000000  ...       45.000000  24475.000000\n",
              "max       85.000000     799281.000000  ...       99.000000  32560.000000\n",
              "\n",
              "[8 rows x 7 columns]"
            ]
          },
          "metadata": {},
          "execution_count": 26
        }
      ]
    },
    {
      "cell_type": "code",
      "metadata": {
        "colab": {
          "base_uri": "https://localhost:8080/"
        },
        "id": "DCqddro63gtM",
        "outputId": "ff03e018-32aa-4e8e-dd8c-dcf958c7d375"
      },
      "source": [
        "census_df['education'].value_counts()"
      ],
      "execution_count": null,
      "outputs": [
        {
          "output_type": "execute_result",
          "data": {
            "text/plain": [
              "HS-grad         7285\n",
              "Some-college    5096\n",
              "Bachelors       3733\n",
              "Masters         1210\n",
              "Assoc-voc        954\n",
              "11th             830\n",
              "Assoc-acdm       748\n",
              "10th             649\n",
              "7th-8th          456\n",
              "Prof-school      412\n",
              "9th              363\n",
              "12th             310\n",
              "Doctorate        284\n",
              "5th-6th          237\n",
              "1st-4th          125\n",
              "Preschool         33\n",
              "Name: education, dtype: int64"
            ]
          },
          "metadata": {},
          "execution_count": 27
        }
      ]
    },
    {
      "cell_type": "code",
      "metadata": {
        "colab": {
          "base_uri": "https://localhost:8080/"
        },
        "id": "ZUcm8eqy3xja",
        "outputId": "37b88213-4547-45a8-993b-ade64349401e"
      },
      "source": [
        "census_df['Marriage Status'].value_counts()"
      ],
      "execution_count": null,
      "outputs": [
        {
          "output_type": "execute_result",
          "data": {
            "text/plain": [
              "Married Civilian             10495\n",
              "No Marriage                   7439\n",
              "Divorced                      3086\n",
              "Separated                      715\n",
              "Widowed                        681\n",
              "Married but Spouse Absent      292\n",
              "Married to Army Official        17\n",
              "Name: Marriage Status, dtype: int64"
            ]
          },
          "metadata": {},
          "execution_count": 28
        }
      ]
    },
    {
      "cell_type": "code",
      "metadata": {
        "colab": {
          "base_uri": "https://localhost:8080/"
        },
        "id": "ssjZsDSJ32j0",
        "outputId": "e5a0b394-8464-4fe1-a3ef-a6993ff21a4f"
      },
      "source": [
        "census_df['Relationship Status'].value_counts()"
      ],
      "execution_count": null,
      "outputs": [
        {
          "output_type": "execute_result",
          "data": {
            "text/plain": [
              "Husband           9219\n",
              "Not-in-family     5808\n",
              "Own-child         3526\n",
              "Unmarried         2405\n",
              "Wife              1120\n",
              "Other-relative     647\n",
              "Name: Relationship Status, dtype: int64"
            ]
          },
          "metadata": {},
          "execution_count": 29
        }
      ]
    },
    {
      "cell_type": "code",
      "metadata": {
        "colab": {
          "base_uri": "https://localhost:8080/"
        },
        "id": "o8neue1O4CDi",
        "outputId": "5ebab9af-d34a-4155-f64a-77b7f377b392"
      },
      "source": [
        "census_df['Skin Color'].value_counts()"
      ],
      "execution_count": null,
      "outputs": [
        {
          "output_type": "execute_result",
          "data": {
            "text/plain": [
              "White                 19411\n",
              "Black                  2201\n",
              "Asian-Pac-Islander      724\n",
              "Amer-Indian-Eskimo      200\n",
              "Other                   189\n",
              "Name: Skin Color, dtype: int64"
            ]
          },
          "metadata": {},
          "execution_count": 30
        }
      ]
    },
    {
      "cell_type": "code",
      "metadata": {
        "id": "Keh3d12E4QD4"
      },
      "source": [
        "census_df = census_df.drop(['Skin Color'], axis = 1)"
      ],
      "execution_count": null,
      "outputs": []
    },
    {
      "cell_type": "code",
      "metadata": {
        "id": "aEYGG-we2fgO"
      },
      "source": [
        "non_numerics = ['education', 'Marriage Status', 'occupation', 'Relationship Status']\n",
        "\n",
        "def one_hot_encoding(column_names, df):\n",
        "    for col in column_names:\n",
        "        one_hot = pd.get_dummies(df[col])\n",
        "        df = df.join(one_hot, how = 'left', lsuffix = '_left', rsuffix = '_right')\n",
        "        df = df.drop([col], axis = 1)\n",
        "    return df\n",
        "\n",
        "census_df = one_hot_encoding(non_numerics, census_df)"
      ],
      "execution_count": null,
      "outputs": []
    },
    {
      "cell_type": "code",
      "metadata": {
        "colab": {
          "base_uri": "https://localhost:8080/",
          "height": 274
        },
        "id": "_YHWNQl15zAO",
        "outputId": "88988ebf-d7e9-46de-fcd6-65fb2ede2d39"
      },
      "source": [
        "census_df.head()"
      ],
      "execution_count": null,
      "outputs": [
        {
          "output_type": "execute_result",
          "data": {
            "text/html": [
              "<div>\n",
              "<style scoped>\n",
              "    .dataframe tbody tr th:only-of-type {\n",
              "        vertical-align: middle;\n",
              "    }\n",
              "\n",
              "    .dataframe tbody tr th {\n",
              "        vertical-align: top;\n",
              "    }\n",
              "\n",
              "    .dataframe thead th {\n",
              "        text-align: right;\n",
              "    }\n",
              "</style>\n",
              "<table border=\"1\" class=\"dataframe\">\n",
              "  <thead>\n",
              "    <tr style=\"text-align: right;\">\n",
              "      <th></th>\n",
              "      <th>age</th>\n",
              "      <th>Financial Weight</th>\n",
              "      <th>education-num</th>\n",
              "      <th>Gender</th>\n",
              "      <th>Capital Gain</th>\n",
              "      <th>Capital Loss</th>\n",
              "      <th>hours-per-week</th>\n",
              "      <th>id</th>\n",
              "      <th>Predictions</th>\n",
              "      <th>10th</th>\n",
              "      <th>11th</th>\n",
              "      <th>12th</th>\n",
              "      <th>1st-4th</th>\n",
              "      <th>5th-6th</th>\n",
              "      <th>7th-8th</th>\n",
              "      <th>9th</th>\n",
              "      <th>Assoc-acdm</th>\n",
              "      <th>Assoc-voc</th>\n",
              "      <th>Bachelors</th>\n",
              "      <th>Doctorate</th>\n",
              "      <th>HS-grad</th>\n",
              "      <th>Masters</th>\n",
              "      <th>Preschool</th>\n",
              "      <th>Prof-school</th>\n",
              "      <th>Some-college</th>\n",
              "      <th>Divorced</th>\n",
              "      <th>Married Civilian</th>\n",
              "      <th>Married but Spouse Absent</th>\n",
              "      <th>Married to Army Official</th>\n",
              "      <th>No Marriage</th>\n",
              "      <th>Separated</th>\n",
              "      <th>Widowed</th>\n",
              "      <th>?</th>\n",
              "      <th>Adm-clerical</th>\n",
              "      <th>Armed-Forces</th>\n",
              "      <th>Craft-repair</th>\n",
              "      <th>Exec-managerial</th>\n",
              "      <th>Farming-fishing</th>\n",
              "      <th>Handlers-cleaners</th>\n",
              "      <th>Machine-op-inspct</th>\n",
              "      <th>Other-service</th>\n",
              "      <th>Priv-house-serv</th>\n",
              "      <th>Prof-specialty</th>\n",
              "      <th>Protective-serv</th>\n",
              "      <th>Sales</th>\n",
              "      <th>Tech-support</th>\n",
              "      <th>Transport-moving</th>\n",
              "      <th>Husband</th>\n",
              "      <th>Not-in-family</th>\n",
              "      <th>Other-relative</th>\n",
              "      <th>Own-child</th>\n",
              "      <th>Unmarried</th>\n",
              "      <th>Wife</th>\n",
              "    </tr>\n",
              "  </thead>\n",
              "  <tbody>\n",
              "    <tr>\n",
              "      <th>0</th>\n",
              "      <td>48</td>\n",
              "      <td>138970</td>\n",
              "      <td>13</td>\n",
              "      <td>Male</td>\n",
              "      <td>0</td>\n",
              "      <td>0</td>\n",
              "      <td>45</td>\n",
              "      <td>6900</td>\n",
              "      <td>Rich</td>\n",
              "      <td>0</td>\n",
              "      <td>0</td>\n",
              "      <td>0</td>\n",
              "      <td>0</td>\n",
              "      <td>0</td>\n",
              "      <td>0</td>\n",
              "      <td>0</td>\n",
              "      <td>0</td>\n",
              "      <td>0</td>\n",
              "      <td>1</td>\n",
              "      <td>0</td>\n",
              "      <td>0</td>\n",
              "      <td>0</td>\n",
              "      <td>0</td>\n",
              "      <td>0</td>\n",
              "      <td>0</td>\n",
              "      <td>0</td>\n",
              "      <td>1</td>\n",
              "      <td>0</td>\n",
              "      <td>0</td>\n",
              "      <td>0</td>\n",
              "      <td>0</td>\n",
              "      <td>0</td>\n",
              "      <td>0</td>\n",
              "      <td>0</td>\n",
              "      <td>0</td>\n",
              "      <td>0</td>\n",
              "      <td>1</td>\n",
              "      <td>0</td>\n",
              "      <td>0</td>\n",
              "      <td>0</td>\n",
              "      <td>0</td>\n",
              "      <td>0</td>\n",
              "      <td>0</td>\n",
              "      <td>0</td>\n",
              "      <td>0</td>\n",
              "      <td>0</td>\n",
              "      <td>0</td>\n",
              "      <td>1</td>\n",
              "      <td>0</td>\n",
              "      <td>0</td>\n",
              "      <td>0</td>\n",
              "      <td>0</td>\n",
              "      <td>0</td>\n",
              "    </tr>\n",
              "    <tr>\n",
              "      <th>1</th>\n",
              "      <td>21</td>\n",
              "      <td>96483</td>\n",
              "      <td>10</td>\n",
              "      <td>Female</td>\n",
              "      <td>0</td>\n",
              "      <td>0</td>\n",
              "      <td>12</td>\n",
              "      <td>27355</td>\n",
              "      <td>Poor</td>\n",
              "      <td>0</td>\n",
              "      <td>0</td>\n",
              "      <td>0</td>\n",
              "      <td>0</td>\n",
              "      <td>0</td>\n",
              "      <td>0</td>\n",
              "      <td>0</td>\n",
              "      <td>0</td>\n",
              "      <td>0</td>\n",
              "      <td>0</td>\n",
              "      <td>0</td>\n",
              "      <td>0</td>\n",
              "      <td>0</td>\n",
              "      <td>0</td>\n",
              "      <td>0</td>\n",
              "      <td>1</td>\n",
              "      <td>0</td>\n",
              "      <td>0</td>\n",
              "      <td>0</td>\n",
              "      <td>0</td>\n",
              "      <td>1</td>\n",
              "      <td>0</td>\n",
              "      <td>0</td>\n",
              "      <td>0</td>\n",
              "      <td>1</td>\n",
              "      <td>0</td>\n",
              "      <td>0</td>\n",
              "      <td>0</td>\n",
              "      <td>0</td>\n",
              "      <td>0</td>\n",
              "      <td>0</td>\n",
              "      <td>0</td>\n",
              "      <td>0</td>\n",
              "      <td>0</td>\n",
              "      <td>0</td>\n",
              "      <td>0</td>\n",
              "      <td>0</td>\n",
              "      <td>0</td>\n",
              "      <td>0</td>\n",
              "      <td>0</td>\n",
              "      <td>0</td>\n",
              "      <td>1</td>\n",
              "      <td>0</td>\n",
              "      <td>0</td>\n",
              "    </tr>\n",
              "    <tr>\n",
              "      <th>2</th>\n",
              "      <td>49</td>\n",
              "      <td>228583</td>\n",
              "      <td>9</td>\n",
              "      <td>Male</td>\n",
              "      <td>0</td>\n",
              "      <td>0</td>\n",
              "      <td>40</td>\n",
              "      <td>12701</td>\n",
              "      <td>Poor</td>\n",
              "      <td>0</td>\n",
              "      <td>0</td>\n",
              "      <td>0</td>\n",
              "      <td>0</td>\n",
              "      <td>0</td>\n",
              "      <td>0</td>\n",
              "      <td>0</td>\n",
              "      <td>0</td>\n",
              "      <td>0</td>\n",
              "      <td>0</td>\n",
              "      <td>0</td>\n",
              "      <td>1</td>\n",
              "      <td>0</td>\n",
              "      <td>0</td>\n",
              "      <td>0</td>\n",
              "      <td>0</td>\n",
              "      <td>1</td>\n",
              "      <td>0</td>\n",
              "      <td>0</td>\n",
              "      <td>0</td>\n",
              "      <td>0</td>\n",
              "      <td>0</td>\n",
              "      <td>0</td>\n",
              "      <td>0</td>\n",
              "      <td>0</td>\n",
              "      <td>0</td>\n",
              "      <td>0</td>\n",
              "      <td>0</td>\n",
              "      <td>0</td>\n",
              "      <td>0</td>\n",
              "      <td>0</td>\n",
              "      <td>1</td>\n",
              "      <td>0</td>\n",
              "      <td>0</td>\n",
              "      <td>0</td>\n",
              "      <td>0</td>\n",
              "      <td>0</td>\n",
              "      <td>0</td>\n",
              "      <td>0</td>\n",
              "      <td>0</td>\n",
              "      <td>0</td>\n",
              "      <td>0</td>\n",
              "      <td>1</td>\n",
              "      <td>0</td>\n",
              "    </tr>\n",
              "    <tr>\n",
              "      <th>3</th>\n",
              "      <td>40</td>\n",
              "      <td>130760</td>\n",
              "      <td>11</td>\n",
              "      <td>Male</td>\n",
              "      <td>0</td>\n",
              "      <td>0</td>\n",
              "      <td>50</td>\n",
              "      <td>782</td>\n",
              "      <td>Rich</td>\n",
              "      <td>0</td>\n",
              "      <td>0</td>\n",
              "      <td>0</td>\n",
              "      <td>0</td>\n",
              "      <td>0</td>\n",
              "      <td>0</td>\n",
              "      <td>0</td>\n",
              "      <td>0</td>\n",
              "      <td>1</td>\n",
              "      <td>0</td>\n",
              "      <td>0</td>\n",
              "      <td>0</td>\n",
              "      <td>0</td>\n",
              "      <td>0</td>\n",
              "      <td>0</td>\n",
              "      <td>0</td>\n",
              "      <td>0</td>\n",
              "      <td>1</td>\n",
              "      <td>0</td>\n",
              "      <td>0</td>\n",
              "      <td>0</td>\n",
              "      <td>0</td>\n",
              "      <td>0</td>\n",
              "      <td>0</td>\n",
              "      <td>0</td>\n",
              "      <td>0</td>\n",
              "      <td>0</td>\n",
              "      <td>1</td>\n",
              "      <td>0</td>\n",
              "      <td>0</td>\n",
              "      <td>0</td>\n",
              "      <td>0</td>\n",
              "      <td>0</td>\n",
              "      <td>0</td>\n",
              "      <td>0</td>\n",
              "      <td>0</td>\n",
              "      <td>0</td>\n",
              "      <td>0</td>\n",
              "      <td>1</td>\n",
              "      <td>0</td>\n",
              "      <td>0</td>\n",
              "      <td>0</td>\n",
              "      <td>0</td>\n",
              "      <td>0</td>\n",
              "    </tr>\n",
              "    <tr>\n",
              "      <th>4</th>\n",
              "      <td>55</td>\n",
              "      <td>223716</td>\n",
              "      <td>10</td>\n",
              "      <td>Female</td>\n",
              "      <td>0</td>\n",
              "      <td>0</td>\n",
              "      <td>40</td>\n",
              "      <td>20462</td>\n",
              "      <td>Poor</td>\n",
              "      <td>0</td>\n",
              "      <td>0</td>\n",
              "      <td>0</td>\n",
              "      <td>0</td>\n",
              "      <td>0</td>\n",
              "      <td>0</td>\n",
              "      <td>0</td>\n",
              "      <td>0</td>\n",
              "      <td>0</td>\n",
              "      <td>0</td>\n",
              "      <td>0</td>\n",
              "      <td>0</td>\n",
              "      <td>0</td>\n",
              "      <td>0</td>\n",
              "      <td>0</td>\n",
              "      <td>1</td>\n",
              "      <td>1</td>\n",
              "      <td>0</td>\n",
              "      <td>0</td>\n",
              "      <td>0</td>\n",
              "      <td>0</td>\n",
              "      <td>0</td>\n",
              "      <td>0</td>\n",
              "      <td>0</td>\n",
              "      <td>0</td>\n",
              "      <td>0</td>\n",
              "      <td>0</td>\n",
              "      <td>1</td>\n",
              "      <td>0</td>\n",
              "      <td>0</td>\n",
              "      <td>0</td>\n",
              "      <td>0</td>\n",
              "      <td>0</td>\n",
              "      <td>0</td>\n",
              "      <td>0</td>\n",
              "      <td>0</td>\n",
              "      <td>0</td>\n",
              "      <td>0</td>\n",
              "      <td>0</td>\n",
              "      <td>1</td>\n",
              "      <td>0</td>\n",
              "      <td>0</td>\n",
              "      <td>0</td>\n",
              "      <td>0</td>\n",
              "    </tr>\n",
              "  </tbody>\n",
              "</table>\n",
              "</div>"
            ],
            "text/plain": [
              "   age  Financial Weight  education-num  ... Own-child  Unmarried  Wife\n",
              "0   48            138970             13  ...         0          0     0\n",
              "1   21             96483             10  ...         1          0     0\n",
              "2   49            228583              9  ...         0          1     0\n",
              "3   40            130760             11  ...         0          0     0\n",
              "4   55            223716             10  ...         0          0     0\n",
              "\n",
              "[5 rows x 53 columns]"
            ]
          },
          "metadata": {},
          "execution_count": 33
        }
      ]
    },
    {
      "cell_type": "code",
      "metadata": {
        "colab": {
          "base_uri": "https://localhost:8080/",
          "height": 274
        },
        "id": "FkK2VwtV4n2w",
        "outputId": "477d4552-9f8c-4694-c6e9-ade01fd77083"
      },
      "source": [
        "from sklearn import preprocessing \n",
        "\n",
        "label_encoder = preprocessing.LabelEncoder()\n",
        " \n",
        "census_df['Gender']= label_encoder.fit_transform(census_df['Gender'])\n",
        "\n",
        "census_df['Predictions']= label_encoder.fit_transform(census_df['Predictions'])\n",
        "census_df.head()"
      ],
      "execution_count": null,
      "outputs": [
        {
          "output_type": "execute_result",
          "data": {
            "text/html": [
              "<div>\n",
              "<style scoped>\n",
              "    .dataframe tbody tr th:only-of-type {\n",
              "        vertical-align: middle;\n",
              "    }\n",
              "\n",
              "    .dataframe tbody tr th {\n",
              "        vertical-align: top;\n",
              "    }\n",
              "\n",
              "    .dataframe thead th {\n",
              "        text-align: right;\n",
              "    }\n",
              "</style>\n",
              "<table border=\"1\" class=\"dataframe\">\n",
              "  <thead>\n",
              "    <tr style=\"text-align: right;\">\n",
              "      <th></th>\n",
              "      <th>age</th>\n",
              "      <th>Financial Weight</th>\n",
              "      <th>education-num</th>\n",
              "      <th>Gender</th>\n",
              "      <th>Capital Gain</th>\n",
              "      <th>Capital Loss</th>\n",
              "      <th>hours-per-week</th>\n",
              "      <th>id</th>\n",
              "      <th>Predictions</th>\n",
              "      <th>10th</th>\n",
              "      <th>11th</th>\n",
              "      <th>12th</th>\n",
              "      <th>1st-4th</th>\n",
              "      <th>5th-6th</th>\n",
              "      <th>7th-8th</th>\n",
              "      <th>9th</th>\n",
              "      <th>Assoc-acdm</th>\n",
              "      <th>Assoc-voc</th>\n",
              "      <th>Bachelors</th>\n",
              "      <th>Doctorate</th>\n",
              "      <th>HS-grad</th>\n",
              "      <th>Masters</th>\n",
              "      <th>Preschool</th>\n",
              "      <th>Prof-school</th>\n",
              "      <th>Some-college</th>\n",
              "      <th>Divorced</th>\n",
              "      <th>Married Civilian</th>\n",
              "      <th>Married but Spouse Absent</th>\n",
              "      <th>Married to Army Official</th>\n",
              "      <th>No Marriage</th>\n",
              "      <th>Separated</th>\n",
              "      <th>Widowed</th>\n",
              "      <th>?</th>\n",
              "      <th>Adm-clerical</th>\n",
              "      <th>Armed-Forces</th>\n",
              "      <th>Craft-repair</th>\n",
              "      <th>Exec-managerial</th>\n",
              "      <th>Farming-fishing</th>\n",
              "      <th>Handlers-cleaners</th>\n",
              "      <th>Machine-op-inspct</th>\n",
              "      <th>Other-service</th>\n",
              "      <th>Priv-house-serv</th>\n",
              "      <th>Prof-specialty</th>\n",
              "      <th>Protective-serv</th>\n",
              "      <th>Sales</th>\n",
              "      <th>Tech-support</th>\n",
              "      <th>Transport-moving</th>\n",
              "      <th>Husband</th>\n",
              "      <th>Not-in-family</th>\n",
              "      <th>Other-relative</th>\n",
              "      <th>Own-child</th>\n",
              "      <th>Unmarried</th>\n",
              "      <th>Wife</th>\n",
              "    </tr>\n",
              "  </thead>\n",
              "  <tbody>\n",
              "    <tr>\n",
              "      <th>0</th>\n",
              "      <td>48</td>\n",
              "      <td>138970</td>\n",
              "      <td>13</td>\n",
              "      <td>1</td>\n",
              "      <td>0</td>\n",
              "      <td>0</td>\n",
              "      <td>45</td>\n",
              "      <td>6900</td>\n",
              "      <td>1</td>\n",
              "      <td>0</td>\n",
              "      <td>0</td>\n",
              "      <td>0</td>\n",
              "      <td>0</td>\n",
              "      <td>0</td>\n",
              "      <td>0</td>\n",
              "      <td>0</td>\n",
              "      <td>0</td>\n",
              "      <td>0</td>\n",
              "      <td>1</td>\n",
              "      <td>0</td>\n",
              "      <td>0</td>\n",
              "      <td>0</td>\n",
              "      <td>0</td>\n",
              "      <td>0</td>\n",
              "      <td>0</td>\n",
              "      <td>0</td>\n",
              "      <td>1</td>\n",
              "      <td>0</td>\n",
              "      <td>0</td>\n",
              "      <td>0</td>\n",
              "      <td>0</td>\n",
              "      <td>0</td>\n",
              "      <td>0</td>\n",
              "      <td>0</td>\n",
              "      <td>0</td>\n",
              "      <td>0</td>\n",
              "      <td>1</td>\n",
              "      <td>0</td>\n",
              "      <td>0</td>\n",
              "      <td>0</td>\n",
              "      <td>0</td>\n",
              "      <td>0</td>\n",
              "      <td>0</td>\n",
              "      <td>0</td>\n",
              "      <td>0</td>\n",
              "      <td>0</td>\n",
              "      <td>0</td>\n",
              "      <td>1</td>\n",
              "      <td>0</td>\n",
              "      <td>0</td>\n",
              "      <td>0</td>\n",
              "      <td>0</td>\n",
              "      <td>0</td>\n",
              "    </tr>\n",
              "    <tr>\n",
              "      <th>1</th>\n",
              "      <td>21</td>\n",
              "      <td>96483</td>\n",
              "      <td>10</td>\n",
              "      <td>0</td>\n",
              "      <td>0</td>\n",
              "      <td>0</td>\n",
              "      <td>12</td>\n",
              "      <td>27355</td>\n",
              "      <td>0</td>\n",
              "      <td>0</td>\n",
              "      <td>0</td>\n",
              "      <td>0</td>\n",
              "      <td>0</td>\n",
              "      <td>0</td>\n",
              "      <td>0</td>\n",
              "      <td>0</td>\n",
              "      <td>0</td>\n",
              "      <td>0</td>\n",
              "      <td>0</td>\n",
              "      <td>0</td>\n",
              "      <td>0</td>\n",
              "      <td>0</td>\n",
              "      <td>0</td>\n",
              "      <td>0</td>\n",
              "      <td>1</td>\n",
              "      <td>0</td>\n",
              "      <td>0</td>\n",
              "      <td>0</td>\n",
              "      <td>0</td>\n",
              "      <td>1</td>\n",
              "      <td>0</td>\n",
              "      <td>0</td>\n",
              "      <td>0</td>\n",
              "      <td>1</td>\n",
              "      <td>0</td>\n",
              "      <td>0</td>\n",
              "      <td>0</td>\n",
              "      <td>0</td>\n",
              "      <td>0</td>\n",
              "      <td>0</td>\n",
              "      <td>0</td>\n",
              "      <td>0</td>\n",
              "      <td>0</td>\n",
              "      <td>0</td>\n",
              "      <td>0</td>\n",
              "      <td>0</td>\n",
              "      <td>0</td>\n",
              "      <td>0</td>\n",
              "      <td>0</td>\n",
              "      <td>0</td>\n",
              "      <td>1</td>\n",
              "      <td>0</td>\n",
              "      <td>0</td>\n",
              "    </tr>\n",
              "    <tr>\n",
              "      <th>2</th>\n",
              "      <td>49</td>\n",
              "      <td>228583</td>\n",
              "      <td>9</td>\n",
              "      <td>1</td>\n",
              "      <td>0</td>\n",
              "      <td>0</td>\n",
              "      <td>40</td>\n",
              "      <td>12701</td>\n",
              "      <td>0</td>\n",
              "      <td>0</td>\n",
              "      <td>0</td>\n",
              "      <td>0</td>\n",
              "      <td>0</td>\n",
              "      <td>0</td>\n",
              "      <td>0</td>\n",
              "      <td>0</td>\n",
              "      <td>0</td>\n",
              "      <td>0</td>\n",
              "      <td>0</td>\n",
              "      <td>0</td>\n",
              "      <td>1</td>\n",
              "      <td>0</td>\n",
              "      <td>0</td>\n",
              "      <td>0</td>\n",
              "      <td>0</td>\n",
              "      <td>1</td>\n",
              "      <td>0</td>\n",
              "      <td>0</td>\n",
              "      <td>0</td>\n",
              "      <td>0</td>\n",
              "      <td>0</td>\n",
              "      <td>0</td>\n",
              "      <td>0</td>\n",
              "      <td>0</td>\n",
              "      <td>0</td>\n",
              "      <td>0</td>\n",
              "      <td>0</td>\n",
              "      <td>0</td>\n",
              "      <td>0</td>\n",
              "      <td>0</td>\n",
              "      <td>1</td>\n",
              "      <td>0</td>\n",
              "      <td>0</td>\n",
              "      <td>0</td>\n",
              "      <td>0</td>\n",
              "      <td>0</td>\n",
              "      <td>0</td>\n",
              "      <td>0</td>\n",
              "      <td>0</td>\n",
              "      <td>0</td>\n",
              "      <td>0</td>\n",
              "      <td>1</td>\n",
              "      <td>0</td>\n",
              "    </tr>\n",
              "    <tr>\n",
              "      <th>3</th>\n",
              "      <td>40</td>\n",
              "      <td>130760</td>\n",
              "      <td>11</td>\n",
              "      <td>1</td>\n",
              "      <td>0</td>\n",
              "      <td>0</td>\n",
              "      <td>50</td>\n",
              "      <td>782</td>\n",
              "      <td>1</td>\n",
              "      <td>0</td>\n",
              "      <td>0</td>\n",
              "      <td>0</td>\n",
              "      <td>0</td>\n",
              "      <td>0</td>\n",
              "      <td>0</td>\n",
              "      <td>0</td>\n",
              "      <td>0</td>\n",
              "      <td>1</td>\n",
              "      <td>0</td>\n",
              "      <td>0</td>\n",
              "      <td>0</td>\n",
              "      <td>0</td>\n",
              "      <td>0</td>\n",
              "      <td>0</td>\n",
              "      <td>0</td>\n",
              "      <td>0</td>\n",
              "      <td>1</td>\n",
              "      <td>0</td>\n",
              "      <td>0</td>\n",
              "      <td>0</td>\n",
              "      <td>0</td>\n",
              "      <td>0</td>\n",
              "      <td>0</td>\n",
              "      <td>0</td>\n",
              "      <td>0</td>\n",
              "      <td>0</td>\n",
              "      <td>1</td>\n",
              "      <td>0</td>\n",
              "      <td>0</td>\n",
              "      <td>0</td>\n",
              "      <td>0</td>\n",
              "      <td>0</td>\n",
              "      <td>0</td>\n",
              "      <td>0</td>\n",
              "      <td>0</td>\n",
              "      <td>0</td>\n",
              "      <td>0</td>\n",
              "      <td>1</td>\n",
              "      <td>0</td>\n",
              "      <td>0</td>\n",
              "      <td>0</td>\n",
              "      <td>0</td>\n",
              "      <td>0</td>\n",
              "    </tr>\n",
              "    <tr>\n",
              "      <th>4</th>\n",
              "      <td>55</td>\n",
              "      <td>223716</td>\n",
              "      <td>10</td>\n",
              "      <td>0</td>\n",
              "      <td>0</td>\n",
              "      <td>0</td>\n",
              "      <td>40</td>\n",
              "      <td>20462</td>\n",
              "      <td>0</td>\n",
              "      <td>0</td>\n",
              "      <td>0</td>\n",
              "      <td>0</td>\n",
              "      <td>0</td>\n",
              "      <td>0</td>\n",
              "      <td>0</td>\n",
              "      <td>0</td>\n",
              "      <td>0</td>\n",
              "      <td>0</td>\n",
              "      <td>0</td>\n",
              "      <td>0</td>\n",
              "      <td>0</td>\n",
              "      <td>0</td>\n",
              "      <td>0</td>\n",
              "      <td>0</td>\n",
              "      <td>1</td>\n",
              "      <td>1</td>\n",
              "      <td>0</td>\n",
              "      <td>0</td>\n",
              "      <td>0</td>\n",
              "      <td>0</td>\n",
              "      <td>0</td>\n",
              "      <td>0</td>\n",
              "      <td>0</td>\n",
              "      <td>0</td>\n",
              "      <td>0</td>\n",
              "      <td>0</td>\n",
              "      <td>1</td>\n",
              "      <td>0</td>\n",
              "      <td>0</td>\n",
              "      <td>0</td>\n",
              "      <td>0</td>\n",
              "      <td>0</td>\n",
              "      <td>0</td>\n",
              "      <td>0</td>\n",
              "      <td>0</td>\n",
              "      <td>0</td>\n",
              "      <td>0</td>\n",
              "      <td>0</td>\n",
              "      <td>1</td>\n",
              "      <td>0</td>\n",
              "      <td>0</td>\n",
              "      <td>0</td>\n",
              "      <td>0</td>\n",
              "    </tr>\n",
              "  </tbody>\n",
              "</table>\n",
              "</div>"
            ],
            "text/plain": [
              "   age  Financial Weight  education-num  ...  Own-child  Unmarried  Wife\n",
              "0   48            138970             13  ...          0          0     0\n",
              "1   21             96483             10  ...          1          0     0\n",
              "2   49            228583              9  ...          0          1     0\n",
              "3   40            130760             11  ...          0          0     0\n",
              "4   55            223716             10  ...          0          0     0\n",
              "\n",
              "[5 rows x 53 columns]"
            ]
          },
          "metadata": {},
          "execution_count": 34
        }
      ]
    },
    {
      "cell_type": "code",
      "metadata": {
        "id": "0fxBMqGA5M-K",
        "colab": {
          "base_uri": "https://localhost:8080/"
        },
        "outputId": "50aad677-1e46-4c5e-c423-a1e7cfd7e7c2"
      },
      "source": [
        "from sklearn.preprocessing import StandardScaler\n",
        "\n",
        "std_features = census_df.drop(['Predictions', 'id'], axis = 1)\n",
        "std_labels = census_df['Predictions']\n",
        "\n",
        "std_features = StandardScaler().fit_transform(std_features)\n",
        "print(std_features)"
      ],
      "execution_count": null,
      "outputs": [
        {
          "output_type": "stream",
          "name": "stdout",
          "text": [
            "[[ 0.7070673  -0.48919257  1.13218115 ... -0.42855035 -0.3440295\n",
            "  -0.22768367]\n",
            " [-1.2966128  -0.90386792 -0.02991536 ...  2.33344812 -0.3440295\n",
            "  -0.22768367]\n",
            " [ 0.78127768  0.38543501 -0.41728086 ... -0.42855035  2.90672745\n",
            "  -0.22768367]\n",
            " ...\n",
            " [-0.40608831 -1.23132744 -0.41728086 ... -0.42855035 -0.3440295\n",
            "  -0.22768367]\n",
            " [ 0.18759468 -0.32632657 -1.19201186 ... -0.42855035 -0.3440295\n",
            "  -0.22768367]\n",
            " [-0.9997713  -1.40171843  1.13218115 ... -0.42855035 -0.3440295\n",
            "  -0.22768367]]\n"
          ]
        }
      ]
    },
    {
      "cell_type": "code",
      "metadata": {
        "id": "tPczoS5_-Uom"
      },
      "source": [
        "from sklearn.model_selection import train_test_split\n",
        "\n",
        "# x_train, x_test, y_train, y_test = train_test_split(std_features, std_labels, test_size=0.05, random_state=42)"
      ],
      "execution_count": null,
      "outputs": []
    },
    {
      "cell_type": "code",
      "metadata": {
        "id": "tM4_7TR5-1de"
      },
      "source": [
        "# print (\"Test x length:\", len(x_test))\n",
        "# print (\"Test y length:\", len(y_test))\n",
        "# print (\"Train x length:\", len(x_train))\n",
        "# print (\"Train y length:\", len(y_train))"
      ],
      "execution_count": null,
      "outputs": []
    },
    {
      "cell_type": "code",
      "metadata": {
        "id": "PcqjaohZ3E9K"
      },
      "source": [
        ""
      ],
      "execution_count": null,
      "outputs": []
    },
    {
      "cell_type": "markdown",
      "metadata": {
        "id": "uB5-nZ9QmBhs"
      },
      "source": [
        "# TEST PREPROCESSING"
      ]
    },
    {
      "cell_type": "code",
      "metadata": {
        "id": "38DsWzXPmBht"
      },
      "source": [
        "test_df = pd.read_csv(TEST_FILE);"
      ],
      "execution_count": null,
      "outputs": []
    },
    {
      "cell_type": "code",
      "metadata": {
        "id": "6DkKr7kDmBht"
      },
      "source": [
        "test_df = test_df.drop('Country', axis = 1)"
      ],
      "execution_count": null,
      "outputs": []
    },
    {
      "cell_type": "code",
      "metadata": {
        "id": "qx3OjCzomBht"
      },
      "source": [
        "test_df = test_df.drop('Working Section', axis = 1)"
      ],
      "execution_count": null,
      "outputs": []
    },
    {
      "cell_type": "code",
      "metadata": {
        "id": "swmpHxRzmBht"
      },
      "source": [
        "test_df = test_df.drop('Skin Color', axis = 1)"
      ],
      "execution_count": null,
      "outputs": []
    },
    {
      "cell_type": "code",
      "metadata": {
        "id": "PInMNwm_mBht"
      },
      "source": [
        "non_numerics = ['education', 'Marriage Status', 'occupation', 'Relationship Status']\n",
        "\n",
        "test_df = one_hot_encoding(non_numerics, test_df)"
      ],
      "execution_count": null,
      "outputs": []
    },
    {
      "cell_type": "code",
      "metadata": {
        "colab": {
          "base_uri": "https://localhost:8080/",
          "height": 274
        },
        "id": "YTWsYLdcmBhu",
        "outputId": "9f3be7eb-3aa9-409a-d6c9-17c433532e12"
      },
      "source": [
        "label_encoder = preprocessing.LabelEncoder()\n",
        " \n",
        "test_df['Gender'] = label_encoder.fit_transform(test_df['Gender'])\n",
        "test_df.head()"
      ],
      "execution_count": null,
      "outputs": [
        {
          "output_type": "execute_result",
          "data": {
            "text/html": [
              "<div>\n",
              "<style scoped>\n",
              "    .dataframe tbody tr th:only-of-type {\n",
              "        vertical-align: middle;\n",
              "    }\n",
              "\n",
              "    .dataframe tbody tr th {\n",
              "        vertical-align: top;\n",
              "    }\n",
              "\n",
              "    .dataframe thead th {\n",
              "        text-align: right;\n",
              "    }\n",
              "</style>\n",
              "<table border=\"1\" class=\"dataframe\">\n",
              "  <thead>\n",
              "    <tr style=\"text-align: right;\">\n",
              "      <th></th>\n",
              "      <th>age</th>\n",
              "      <th>Financial Weight</th>\n",
              "      <th>education-num</th>\n",
              "      <th>Gender</th>\n",
              "      <th>Capital Gain</th>\n",
              "      <th>Capital Loss</th>\n",
              "      <th>hours-per-week</th>\n",
              "      <th>id</th>\n",
              "      <th>10th</th>\n",
              "      <th>11th</th>\n",
              "      <th>12th</th>\n",
              "      <th>1st-4th</th>\n",
              "      <th>5th-6th</th>\n",
              "      <th>7th-8th</th>\n",
              "      <th>9th</th>\n",
              "      <th>Assoc-acdm</th>\n",
              "      <th>Assoc-voc</th>\n",
              "      <th>Bachelors</th>\n",
              "      <th>Doctorate</th>\n",
              "      <th>HS-grad</th>\n",
              "      <th>Masters</th>\n",
              "      <th>Preschool</th>\n",
              "      <th>Prof-school</th>\n",
              "      <th>Some-college</th>\n",
              "      <th>Divorced</th>\n",
              "      <th>Married Civilian</th>\n",
              "      <th>Married but Spouse Absent</th>\n",
              "      <th>Married to Army Official</th>\n",
              "      <th>No Marriage</th>\n",
              "      <th>Separated</th>\n",
              "      <th>Widowed</th>\n",
              "      <th>?</th>\n",
              "      <th>Adm-clerical</th>\n",
              "      <th>Armed-Forces</th>\n",
              "      <th>Craft-repair</th>\n",
              "      <th>Exec-managerial</th>\n",
              "      <th>Farming-fishing</th>\n",
              "      <th>Handlers-cleaners</th>\n",
              "      <th>Machine-op-inspct</th>\n",
              "      <th>Other-service</th>\n",
              "      <th>Priv-house-serv</th>\n",
              "      <th>Prof-specialty</th>\n",
              "      <th>Protective-serv</th>\n",
              "      <th>Sales</th>\n",
              "      <th>Tech-support</th>\n",
              "      <th>Transport-moving</th>\n",
              "      <th>Husband</th>\n",
              "      <th>Not-in-family</th>\n",
              "      <th>Other-relative</th>\n",
              "      <th>Own-child</th>\n",
              "      <th>Unmarried</th>\n",
              "      <th>Wife</th>\n",
              "    </tr>\n",
              "  </thead>\n",
              "  <tbody>\n",
              "    <tr>\n",
              "      <th>0</th>\n",
              "      <td>33</td>\n",
              "      <td>180859</td>\n",
              "      <td>9</td>\n",
              "      <td>1</td>\n",
              "      <td>0</td>\n",
              "      <td>0</td>\n",
              "      <td>40</td>\n",
              "      <td>13102</td>\n",
              "      <td>0</td>\n",
              "      <td>0</td>\n",
              "      <td>0</td>\n",
              "      <td>0</td>\n",
              "      <td>0</td>\n",
              "      <td>0</td>\n",
              "      <td>0</td>\n",
              "      <td>0</td>\n",
              "      <td>0</td>\n",
              "      <td>0</td>\n",
              "      <td>0</td>\n",
              "      <td>1</td>\n",
              "      <td>0</td>\n",
              "      <td>0</td>\n",
              "      <td>0</td>\n",
              "      <td>0</td>\n",
              "      <td>1</td>\n",
              "      <td>0</td>\n",
              "      <td>0</td>\n",
              "      <td>0</td>\n",
              "      <td>0</td>\n",
              "      <td>0</td>\n",
              "      <td>0</td>\n",
              "      <td>0</td>\n",
              "      <td>0</td>\n",
              "      <td>0</td>\n",
              "      <td>0</td>\n",
              "      <td>1</td>\n",
              "      <td>0</td>\n",
              "      <td>0</td>\n",
              "      <td>0</td>\n",
              "      <td>0</td>\n",
              "      <td>0</td>\n",
              "      <td>0</td>\n",
              "      <td>0</td>\n",
              "      <td>0</td>\n",
              "      <td>0</td>\n",
              "      <td>0</td>\n",
              "      <td>0</td>\n",
              "      <td>1</td>\n",
              "      <td>0</td>\n",
              "      <td>0</td>\n",
              "      <td>0</td>\n",
              "      <td>0</td>\n",
              "    </tr>\n",
              "    <tr>\n",
              "      <th>1</th>\n",
              "      <td>28</td>\n",
              "      <td>163320</td>\n",
              "      <td>9</td>\n",
              "      <td>1</td>\n",
              "      <td>0</td>\n",
              "      <td>0</td>\n",
              "      <td>40</td>\n",
              "      <td>19586</td>\n",
              "      <td>0</td>\n",
              "      <td>0</td>\n",
              "      <td>0</td>\n",
              "      <td>0</td>\n",
              "      <td>0</td>\n",
              "      <td>0</td>\n",
              "      <td>0</td>\n",
              "      <td>0</td>\n",
              "      <td>0</td>\n",
              "      <td>0</td>\n",
              "      <td>0</td>\n",
              "      <td>1</td>\n",
              "      <td>0</td>\n",
              "      <td>0</td>\n",
              "      <td>0</td>\n",
              "      <td>0</td>\n",
              "      <td>0</td>\n",
              "      <td>0</td>\n",
              "      <td>0</td>\n",
              "      <td>0</td>\n",
              "      <td>1</td>\n",
              "      <td>0</td>\n",
              "      <td>0</td>\n",
              "      <td>0</td>\n",
              "      <td>0</td>\n",
              "      <td>0</td>\n",
              "      <td>0</td>\n",
              "      <td>0</td>\n",
              "      <td>0</td>\n",
              "      <td>0</td>\n",
              "      <td>0</td>\n",
              "      <td>0</td>\n",
              "      <td>0</td>\n",
              "      <td>0</td>\n",
              "      <td>0</td>\n",
              "      <td>0</td>\n",
              "      <td>0</td>\n",
              "      <td>1</td>\n",
              "      <td>0</td>\n",
              "      <td>0</td>\n",
              "      <td>0</td>\n",
              "      <td>1</td>\n",
              "      <td>0</td>\n",
              "      <td>0</td>\n",
              "    </tr>\n",
              "    <tr>\n",
              "      <th>2</th>\n",
              "      <td>39</td>\n",
              "      <td>116608</td>\n",
              "      <td>9</td>\n",
              "      <td>0</td>\n",
              "      <td>0</td>\n",
              "      <td>0</td>\n",
              "      <td>40</td>\n",
              "      <td>29215</td>\n",
              "      <td>0</td>\n",
              "      <td>0</td>\n",
              "      <td>0</td>\n",
              "      <td>0</td>\n",
              "      <td>0</td>\n",
              "      <td>0</td>\n",
              "      <td>0</td>\n",
              "      <td>0</td>\n",
              "      <td>0</td>\n",
              "      <td>0</td>\n",
              "      <td>0</td>\n",
              "      <td>1</td>\n",
              "      <td>0</td>\n",
              "      <td>0</td>\n",
              "      <td>0</td>\n",
              "      <td>0</td>\n",
              "      <td>1</td>\n",
              "      <td>0</td>\n",
              "      <td>0</td>\n",
              "      <td>0</td>\n",
              "      <td>0</td>\n",
              "      <td>0</td>\n",
              "      <td>0</td>\n",
              "      <td>0</td>\n",
              "      <td>1</td>\n",
              "      <td>0</td>\n",
              "      <td>0</td>\n",
              "      <td>0</td>\n",
              "      <td>0</td>\n",
              "      <td>0</td>\n",
              "      <td>0</td>\n",
              "      <td>0</td>\n",
              "      <td>0</td>\n",
              "      <td>0</td>\n",
              "      <td>0</td>\n",
              "      <td>0</td>\n",
              "      <td>0</td>\n",
              "      <td>0</td>\n",
              "      <td>0</td>\n",
              "      <td>0</td>\n",
              "      <td>0</td>\n",
              "      <td>0</td>\n",
              "      <td>1</td>\n",
              "      <td>0</td>\n",
              "    </tr>\n",
              "    <tr>\n",
              "      <th>3</th>\n",
              "      <td>31</td>\n",
              "      <td>288825</td>\n",
              "      <td>9</td>\n",
              "      <td>1</td>\n",
              "      <td>5013</td>\n",
              "      <td>0</td>\n",
              "      <td>40</td>\n",
              "      <td>23331</td>\n",
              "      <td>0</td>\n",
              "      <td>0</td>\n",
              "      <td>0</td>\n",
              "      <td>0</td>\n",
              "      <td>0</td>\n",
              "      <td>0</td>\n",
              "      <td>0</td>\n",
              "      <td>0</td>\n",
              "      <td>0</td>\n",
              "      <td>0</td>\n",
              "      <td>0</td>\n",
              "      <td>1</td>\n",
              "      <td>0</td>\n",
              "      <td>0</td>\n",
              "      <td>0</td>\n",
              "      <td>0</td>\n",
              "      <td>0</td>\n",
              "      <td>1</td>\n",
              "      <td>0</td>\n",
              "      <td>0</td>\n",
              "      <td>0</td>\n",
              "      <td>0</td>\n",
              "      <td>0</td>\n",
              "      <td>0</td>\n",
              "      <td>0</td>\n",
              "      <td>0</td>\n",
              "      <td>0</td>\n",
              "      <td>0</td>\n",
              "      <td>0</td>\n",
              "      <td>1</td>\n",
              "      <td>0</td>\n",
              "      <td>0</td>\n",
              "      <td>0</td>\n",
              "      <td>0</td>\n",
              "      <td>0</td>\n",
              "      <td>0</td>\n",
              "      <td>0</td>\n",
              "      <td>0</td>\n",
              "      <td>1</td>\n",
              "      <td>0</td>\n",
              "      <td>0</td>\n",
              "      <td>0</td>\n",
              "      <td>0</td>\n",
              "      <td>0</td>\n",
              "    </tr>\n",
              "    <tr>\n",
              "      <th>4</th>\n",
              "      <td>18</td>\n",
              "      <td>217743</td>\n",
              "      <td>7</td>\n",
              "      <td>0</td>\n",
              "      <td>0</td>\n",
              "      <td>0</td>\n",
              "      <td>40</td>\n",
              "      <td>31935</td>\n",
              "      <td>0</td>\n",
              "      <td>1</td>\n",
              "      <td>0</td>\n",
              "      <td>0</td>\n",
              "      <td>0</td>\n",
              "      <td>0</td>\n",
              "      <td>0</td>\n",
              "      <td>0</td>\n",
              "      <td>0</td>\n",
              "      <td>0</td>\n",
              "      <td>0</td>\n",
              "      <td>0</td>\n",
              "      <td>0</td>\n",
              "      <td>0</td>\n",
              "      <td>0</td>\n",
              "      <td>0</td>\n",
              "      <td>0</td>\n",
              "      <td>0</td>\n",
              "      <td>0</td>\n",
              "      <td>0</td>\n",
              "      <td>1</td>\n",
              "      <td>0</td>\n",
              "      <td>0</td>\n",
              "      <td>0</td>\n",
              "      <td>0</td>\n",
              "      <td>0</td>\n",
              "      <td>0</td>\n",
              "      <td>0</td>\n",
              "      <td>0</td>\n",
              "      <td>0</td>\n",
              "      <td>0</td>\n",
              "      <td>0</td>\n",
              "      <td>0</td>\n",
              "      <td>0</td>\n",
              "      <td>0</td>\n",
              "      <td>1</td>\n",
              "      <td>0</td>\n",
              "      <td>0</td>\n",
              "      <td>0</td>\n",
              "      <td>0</td>\n",
              "      <td>0</td>\n",
              "      <td>1</td>\n",
              "      <td>0</td>\n",
              "      <td>0</td>\n",
              "    </tr>\n",
              "  </tbody>\n",
              "</table>\n",
              "</div>"
            ],
            "text/plain": [
              "   age  Financial Weight  education-num  ...  Own-child  Unmarried  Wife\n",
              "0   33            180859              9  ...          0          0     0\n",
              "1   28            163320              9  ...          1          0     0\n",
              "2   39            116608              9  ...          0          1     0\n",
              "3   31            288825              9  ...          0          0     0\n",
              "4   18            217743              7  ...          1          0     0\n",
              "\n",
              "[5 rows x 52 columns]"
            ]
          },
          "metadata": {},
          "execution_count": 43
        }
      ]
    },
    {
      "cell_type": "markdown",
      "metadata": {
        "id": "at6eGwS9_bBM"
      },
      "source": [
        "## Logistic Regression"
      ]
    },
    {
      "cell_type": "code",
      "metadata": {
        "id": "CwWsajWg_at6"
      },
      "source": [
        "from sklearn.linear_model import LogisticRegression\n",
        "\n",
        "x_train = std_features\n",
        "y_train = std_labels\n",
        "\n",
        "logreg = LogisticRegression(max_iter = 300)\n",
        "\n",
        "logreg.fit(x_train,y_train)\n",
        "\n",
        "y_train_pred = logreg.predict(x_train)\n",
        "# y_test_pred = logreg.predict(x_test)\n"
      ],
      "execution_count": null,
      "outputs": []
    },
    {
      "cell_type": "code",
      "metadata": {
        "colab": {
          "base_uri": "https://localhost:8080/"
        },
        "id": "vYppjolr_oCN",
        "outputId": "233dd6e6-55d1-4f73-f600-f1bb48dfe84f"
      },
      "source": [
        "from sklearn import metrics\n",
        "#print(\"Train Accuracy:\",metrics.accuracy_score(y_normal_train, y_normal_train_pred))\n",
        "#print(\"Test Accuracy:\",metrics.accuracy_score(y_normal_test, y_normal_test_pred))\n",
        "\n",
        "print(\"ROC score:\", metrics.roc_auc_score(y_train, y_train_pred))\n",
        "# print(\"ROC score:\", metrics.roc_auc_score(y_test, y_test_pred))"
      ],
      "execution_count": null,
      "outputs": [
        {
          "output_type": "stream",
          "name": "stdout",
          "text": [
            "ROC score: 0.7621245240257538\n"
          ]
        }
      ]
    },
    {
      "cell_type": "code",
      "metadata": {
        "colab": {
          "base_uri": "https://localhost:8080/"
        },
        "id": "XvmBuJFIOtBx",
        "outputId": "a3f50c86-af41-4fc7-db22-9faefa3e21ad"
      },
      "source": [
        "from sklearn.svm import SVC\n",
        "\n",
        "x_train = StandardScaler().fit_transform(x_train)\n",
        "\n",
        "svclassifier = SVC(kernel='linear')\n",
        "svclassifier.fit(x_train, y_train)\n",
        "\n",
        "y_svm_train_pred = svclassifier.predict(x_train)\n",
        "print(\"SVM ROC Train Accuracy:\", metrics.roc_auc_score(y_train, y_svm_train_pred))"
      ],
      "execution_count": null,
      "outputs": [
        {
          "output_type": "stream",
          "name": "stdout",
          "text": [
            "SVM ROC Train Accuracy: 0.7578953567168896\n"
          ]
        }
      ]
    },
    {
      "cell_type": "code",
      "metadata": {
        "id": "HMyBcp0d_zW-",
        "colab": {
          "base_uri": "https://localhost:8080/",
          "height": 1000
        },
        "outputId": "b738973f-f1f1-4529-e326-63ab3064f193"
      },
      "source": [
        "import seaborn as sns\n",
        "\n",
        "corr = census_df.corr()['Predictions'].to_frame()\n",
        "\n",
        "cmap = cmap=sns.diverging_palette(5, 250, as_cmap=True)\n",
        "\n",
        "corr.style.background_gradient(cmap, axis = 1)\\\n",
        "    .set_properties(**{'max-width': '80px', 'font-size': '10pt'})\\\n",
        "    .set_precision(2)\\"
      ],
      "execution_count": null,
      "outputs": [
        {
          "output_type": "execute_result",
          "data": {
            "text/html": [
              "<style  type=\"text/css\" >\n",
              "#T_9a68e67c_29e6_11ec_a362_0242ac1c0002row0_col0,#T_9a68e67c_29e6_11ec_a362_0242ac1c0002row1_col0,#T_9a68e67c_29e6_11ec_a362_0242ac1c0002row2_col0,#T_9a68e67c_29e6_11ec_a362_0242ac1c0002row3_col0,#T_9a68e67c_29e6_11ec_a362_0242ac1c0002row4_col0,#T_9a68e67c_29e6_11ec_a362_0242ac1c0002row5_col0,#T_9a68e67c_29e6_11ec_a362_0242ac1c0002row6_col0,#T_9a68e67c_29e6_11ec_a362_0242ac1c0002row7_col0,#T_9a68e67c_29e6_11ec_a362_0242ac1c0002row8_col0,#T_9a68e67c_29e6_11ec_a362_0242ac1c0002row9_col0,#T_9a68e67c_29e6_11ec_a362_0242ac1c0002row10_col0,#T_9a68e67c_29e6_11ec_a362_0242ac1c0002row11_col0,#T_9a68e67c_29e6_11ec_a362_0242ac1c0002row12_col0,#T_9a68e67c_29e6_11ec_a362_0242ac1c0002row13_col0,#T_9a68e67c_29e6_11ec_a362_0242ac1c0002row14_col0,#T_9a68e67c_29e6_11ec_a362_0242ac1c0002row15_col0,#T_9a68e67c_29e6_11ec_a362_0242ac1c0002row16_col0,#T_9a68e67c_29e6_11ec_a362_0242ac1c0002row17_col0,#T_9a68e67c_29e6_11ec_a362_0242ac1c0002row18_col0,#T_9a68e67c_29e6_11ec_a362_0242ac1c0002row19_col0,#T_9a68e67c_29e6_11ec_a362_0242ac1c0002row20_col0,#T_9a68e67c_29e6_11ec_a362_0242ac1c0002row21_col0,#T_9a68e67c_29e6_11ec_a362_0242ac1c0002row22_col0,#T_9a68e67c_29e6_11ec_a362_0242ac1c0002row23_col0,#T_9a68e67c_29e6_11ec_a362_0242ac1c0002row24_col0,#T_9a68e67c_29e6_11ec_a362_0242ac1c0002row25_col0,#T_9a68e67c_29e6_11ec_a362_0242ac1c0002row26_col0,#T_9a68e67c_29e6_11ec_a362_0242ac1c0002row27_col0,#T_9a68e67c_29e6_11ec_a362_0242ac1c0002row28_col0,#T_9a68e67c_29e6_11ec_a362_0242ac1c0002row29_col0,#T_9a68e67c_29e6_11ec_a362_0242ac1c0002row30_col0,#T_9a68e67c_29e6_11ec_a362_0242ac1c0002row31_col0,#T_9a68e67c_29e6_11ec_a362_0242ac1c0002row32_col0,#T_9a68e67c_29e6_11ec_a362_0242ac1c0002row33_col0,#T_9a68e67c_29e6_11ec_a362_0242ac1c0002row34_col0,#T_9a68e67c_29e6_11ec_a362_0242ac1c0002row35_col0,#T_9a68e67c_29e6_11ec_a362_0242ac1c0002row36_col0,#T_9a68e67c_29e6_11ec_a362_0242ac1c0002row37_col0,#T_9a68e67c_29e6_11ec_a362_0242ac1c0002row38_col0,#T_9a68e67c_29e6_11ec_a362_0242ac1c0002row39_col0,#T_9a68e67c_29e6_11ec_a362_0242ac1c0002row40_col0,#T_9a68e67c_29e6_11ec_a362_0242ac1c0002row41_col0,#T_9a68e67c_29e6_11ec_a362_0242ac1c0002row42_col0,#T_9a68e67c_29e6_11ec_a362_0242ac1c0002row43_col0,#T_9a68e67c_29e6_11ec_a362_0242ac1c0002row44_col0,#T_9a68e67c_29e6_11ec_a362_0242ac1c0002row45_col0,#T_9a68e67c_29e6_11ec_a362_0242ac1c0002row46_col0,#T_9a68e67c_29e6_11ec_a362_0242ac1c0002row47_col0,#T_9a68e67c_29e6_11ec_a362_0242ac1c0002row48_col0,#T_9a68e67c_29e6_11ec_a362_0242ac1c0002row49_col0,#T_9a68e67c_29e6_11ec_a362_0242ac1c0002row50_col0,#T_9a68e67c_29e6_11ec_a362_0242ac1c0002row51_col0,#T_9a68e67c_29e6_11ec_a362_0242ac1c0002row52_col0{\n",
              "            background-color:  #d73c5b;\n",
              "            color:  #f1f1f1;\n",
              "            max-width:  80px;\n",
              "            font-size:  10pt;\n",
              "        }</style><table id=\"T_9a68e67c_29e6_11ec_a362_0242ac1c0002\" ><thead>    <tr>        <th class=\"blank level0\" ></th>        <th class=\"col_heading level0 col0\" >Predictions</th>    </tr></thead><tbody>\n",
              "                <tr>\n",
              "                        <th id=\"T_9a68e67c_29e6_11ec_a362_0242ac1c0002level0_row0\" class=\"row_heading level0 row0\" >age</th>\n",
              "                        <td id=\"T_9a68e67c_29e6_11ec_a362_0242ac1c0002row0_col0\" class=\"data row0 col0\" >0.24</td>\n",
              "            </tr>\n",
              "            <tr>\n",
              "                        <th id=\"T_9a68e67c_29e6_11ec_a362_0242ac1c0002level0_row1\" class=\"row_heading level0 row1\" >Financial Weight</th>\n",
              "                        <td id=\"T_9a68e67c_29e6_11ec_a362_0242ac1c0002row1_col0\" class=\"data row1 col0\" >-0.01</td>\n",
              "            </tr>\n",
              "            <tr>\n",
              "                        <th id=\"T_9a68e67c_29e6_11ec_a362_0242ac1c0002level0_row2\" class=\"row_heading level0 row2\" >education-num</th>\n",
              "                        <td id=\"T_9a68e67c_29e6_11ec_a362_0242ac1c0002row2_col0\" class=\"data row2 col0\" >0.33</td>\n",
              "            </tr>\n",
              "            <tr>\n",
              "                        <th id=\"T_9a68e67c_29e6_11ec_a362_0242ac1c0002level0_row3\" class=\"row_heading level0 row3\" >Gender</th>\n",
              "                        <td id=\"T_9a68e67c_29e6_11ec_a362_0242ac1c0002row3_col0\" class=\"data row3 col0\" >0.22</td>\n",
              "            </tr>\n",
              "            <tr>\n",
              "                        <th id=\"T_9a68e67c_29e6_11ec_a362_0242ac1c0002level0_row4\" class=\"row_heading level0 row4\" >Capital Gain</th>\n",
              "                        <td id=\"T_9a68e67c_29e6_11ec_a362_0242ac1c0002row4_col0\" class=\"data row4 col0\" >0.22</td>\n",
              "            </tr>\n",
              "            <tr>\n",
              "                        <th id=\"T_9a68e67c_29e6_11ec_a362_0242ac1c0002level0_row5\" class=\"row_heading level0 row5\" >Capital Loss</th>\n",
              "                        <td id=\"T_9a68e67c_29e6_11ec_a362_0242ac1c0002row5_col0\" class=\"data row5 col0\" >0.16</td>\n",
              "            </tr>\n",
              "            <tr>\n",
              "                        <th id=\"T_9a68e67c_29e6_11ec_a362_0242ac1c0002level0_row6\" class=\"row_heading level0 row6\" >hours-per-week</th>\n",
              "                        <td id=\"T_9a68e67c_29e6_11ec_a362_0242ac1c0002row6_col0\" class=\"data row6 col0\" >0.22</td>\n",
              "            </tr>\n",
              "            <tr>\n",
              "                        <th id=\"T_9a68e67c_29e6_11ec_a362_0242ac1c0002level0_row7\" class=\"row_heading level0 row7\" >id</th>\n",
              "                        <td id=\"T_9a68e67c_29e6_11ec_a362_0242ac1c0002row7_col0\" class=\"data row7 col0\" >0.01</td>\n",
              "            </tr>\n",
              "            <tr>\n",
              "                        <th id=\"T_9a68e67c_29e6_11ec_a362_0242ac1c0002level0_row8\" class=\"row_heading level0 row8\" >Predictions</th>\n",
              "                        <td id=\"T_9a68e67c_29e6_11ec_a362_0242ac1c0002row8_col0\" class=\"data row8 col0\" >1.00</td>\n",
              "            </tr>\n",
              "            <tr>\n",
              "                        <th id=\"T_9a68e67c_29e6_11ec_a362_0242ac1c0002level0_row9\" class=\"row_heading level0 row9\" >10th</th>\n",
              "                        <td id=\"T_9a68e67c_29e6_11ec_a362_0242ac1c0002row9_col0\" class=\"data row9 col0\" >-0.07</td>\n",
              "            </tr>\n",
              "            <tr>\n",
              "                        <th id=\"T_9a68e67c_29e6_11ec_a362_0242ac1c0002level0_row10\" class=\"row_heading level0 row10\" >11th</th>\n",
              "                        <td id=\"T_9a68e67c_29e6_11ec_a362_0242ac1c0002row10_col0\" class=\"data row10 col0\" >-0.09</td>\n",
              "            </tr>\n",
              "            <tr>\n",
              "                        <th id=\"T_9a68e67c_29e6_11ec_a362_0242ac1c0002level0_row11\" class=\"row_heading level0 row11\" >12th</th>\n",
              "                        <td id=\"T_9a68e67c_29e6_11ec_a362_0242ac1c0002row11_col0\" class=\"data row11 col0\" >-0.04</td>\n",
              "            </tr>\n",
              "            <tr>\n",
              "                        <th id=\"T_9a68e67c_29e6_11ec_a362_0242ac1c0002level0_row12\" class=\"row_heading level0 row12\" >1st-4th</th>\n",
              "                        <td id=\"T_9a68e67c_29e6_11ec_a362_0242ac1c0002row12_col0\" class=\"data row12 col0\" >-0.03</td>\n",
              "            </tr>\n",
              "            <tr>\n",
              "                        <th id=\"T_9a68e67c_29e6_11ec_a362_0242ac1c0002level0_row13\" class=\"row_heading level0 row13\" >5th-6th</th>\n",
              "                        <td id=\"T_9a68e67c_29e6_11ec_a362_0242ac1c0002row13_col0\" class=\"data row13 col0\" >-0.04</td>\n",
              "            </tr>\n",
              "            <tr>\n",
              "                        <th id=\"T_9a68e67c_29e6_11ec_a362_0242ac1c0002level0_row14\" class=\"row_heading level0 row14\" >7th-8th</th>\n",
              "                        <td id=\"T_9a68e67c_29e6_11ec_a362_0242ac1c0002row14_col0\" class=\"data row14 col0\" >-0.06</td>\n",
              "            </tr>\n",
              "            <tr>\n",
              "                        <th id=\"T_9a68e67c_29e6_11ec_a362_0242ac1c0002level0_row15\" class=\"row_heading level0 row15\" >9th</th>\n",
              "                        <td id=\"T_9a68e67c_29e6_11ec_a362_0242ac1c0002row15_col0\" class=\"data row15 col0\" >-0.06</td>\n",
              "            </tr>\n",
              "            <tr>\n",
              "                        <th id=\"T_9a68e67c_29e6_11ec_a362_0242ac1c0002level0_row16\" class=\"row_heading level0 row16\" >Assoc-acdm</th>\n",
              "                        <td id=\"T_9a68e67c_29e6_11ec_a362_0242ac1c0002row16_col0\" class=\"data row16 col0\" >0.00</td>\n",
              "            </tr>\n",
              "            <tr>\n",
              "                        <th id=\"T_9a68e67c_29e6_11ec_a362_0242ac1c0002level0_row17\" class=\"row_heading level0 row17\" >Assoc-voc</th>\n",
              "                        <td id=\"T_9a68e67c_29e6_11ec_a362_0242ac1c0002row17_col0\" class=\"data row17 col0\" >0.01</td>\n",
              "            </tr>\n",
              "            <tr>\n",
              "                        <th id=\"T_9a68e67c_29e6_11ec_a362_0242ac1c0002level0_row18\" class=\"row_heading level0 row18\" >Bachelors</th>\n",
              "                        <td id=\"T_9a68e67c_29e6_11ec_a362_0242ac1c0002row18_col0\" class=\"data row18 col0\" >0.17</td>\n",
              "            </tr>\n",
              "            <tr>\n",
              "                        <th id=\"T_9a68e67c_29e6_11ec_a362_0242ac1c0002level0_row19\" class=\"row_heading level0 row19\" >Doctorate</th>\n",
              "                        <td id=\"T_9a68e67c_29e6_11ec_a362_0242ac1c0002row19_col0\" class=\"data row19 col0\" >0.13</td>\n",
              "            </tr>\n",
              "            <tr>\n",
              "                        <th id=\"T_9a68e67c_29e6_11ec_a362_0242ac1c0002level0_row20\" class=\"row_heading level0 row20\" >HS-grad</th>\n",
              "                        <td id=\"T_9a68e67c_29e6_11ec_a362_0242ac1c0002row20_col0\" class=\"data row20 col0\" >-0.12</td>\n",
              "            </tr>\n",
              "            <tr>\n",
              "                        <th id=\"T_9a68e67c_29e6_11ec_a362_0242ac1c0002level0_row21\" class=\"row_heading level0 row21\" >Masters</th>\n",
              "                        <td id=\"T_9a68e67c_29e6_11ec_a362_0242ac1c0002row21_col0\" class=\"data row21 col0\" >0.16</td>\n",
              "            </tr>\n",
              "            <tr>\n",
              "                        <th id=\"T_9a68e67c_29e6_11ec_a362_0242ac1c0002level0_row22\" class=\"row_heading level0 row22\" >Preschool</th>\n",
              "                        <td id=\"T_9a68e67c_29e6_11ec_a362_0242ac1c0002row22_col0\" class=\"data row22 col0\" >-0.02</td>\n",
              "            </tr>\n",
              "            <tr>\n",
              "                        <th id=\"T_9a68e67c_29e6_11ec_a362_0242ac1c0002level0_row23\" class=\"row_heading level0 row23\" >Prof-school</th>\n",
              "                        <td id=\"T_9a68e67c_29e6_11ec_a362_0242ac1c0002row23_col0\" class=\"data row23 col0\" >0.16</td>\n",
              "            </tr>\n",
              "            <tr>\n",
              "                        <th id=\"T_9a68e67c_29e6_11ec_a362_0242ac1c0002level0_row24\" class=\"row_heading level0 row24\" >Some-college</th>\n",
              "                        <td id=\"T_9a68e67c_29e6_11ec_a362_0242ac1c0002row24_col0\" class=\"data row24 col0\" >-0.06</td>\n",
              "            </tr>\n",
              "            <tr>\n",
              "                        <th id=\"T_9a68e67c_29e6_11ec_a362_0242ac1c0002level0_row25\" class=\"row_heading level0 row25\" >Divorced</th>\n",
              "                        <td id=\"T_9a68e67c_29e6_11ec_a362_0242ac1c0002row25_col0\" class=\"data row25 col0\" >-0.13</td>\n",
              "            </tr>\n",
              "            <tr>\n",
              "                        <th id=\"T_9a68e67c_29e6_11ec_a362_0242ac1c0002level0_row26\" class=\"row_heading level0 row26\" >Married Civilian</th>\n",
              "                        <td id=\"T_9a68e67c_29e6_11ec_a362_0242ac1c0002row26_col0\" class=\"data row26 col0\" >0.45</td>\n",
              "            </tr>\n",
              "            <tr>\n",
              "                        <th id=\"T_9a68e67c_29e6_11ec_a362_0242ac1c0002level0_row27\" class=\"row_heading level0 row27\" >Married but Spouse Absent</th>\n",
              "                        <td id=\"T_9a68e67c_29e6_11ec_a362_0242ac1c0002row27_col0\" class=\"data row27 col0\" >-0.04</td>\n",
              "            </tr>\n",
              "            <tr>\n",
              "                        <th id=\"T_9a68e67c_29e6_11ec_a362_0242ac1c0002level0_row28\" class=\"row_heading level0 row28\" >Married to Army Official</th>\n",
              "                        <td id=\"T_9a68e67c_29e6_11ec_a362_0242ac1c0002row28_col0\" class=\"data row28 col0\" >0.01</td>\n",
              "            </tr>\n",
              "            <tr>\n",
              "                        <th id=\"T_9a68e67c_29e6_11ec_a362_0242ac1c0002level0_row29\" class=\"row_heading level0 row29\" >No Marriage</th>\n",
              "                        <td id=\"T_9a68e67c_29e6_11ec_a362_0242ac1c0002row29_col0\" class=\"data row29 col0\" >-0.32</td>\n",
              "            </tr>\n",
              "            <tr>\n",
              "                        <th id=\"T_9a68e67c_29e6_11ec_a362_0242ac1c0002level0_row30\" class=\"row_heading level0 row30\" >Separated</th>\n",
              "                        <td id=\"T_9a68e67c_29e6_11ec_a362_0242ac1c0002row30_col0\" class=\"data row30 col0\" >-0.07</td>\n",
              "            </tr>\n",
              "            <tr>\n",
              "                        <th id=\"T_9a68e67c_29e6_11ec_a362_0242ac1c0002level0_row31\" class=\"row_heading level0 row31\" >Widowed</th>\n",
              "                        <td id=\"T_9a68e67c_29e6_11ec_a362_0242ac1c0002row31_col0\" class=\"data row31 col0\" >-0.07</td>\n",
              "            </tr>\n",
              "            <tr>\n",
              "                        <th id=\"T_9a68e67c_29e6_11ec_a362_0242ac1c0002level0_row32\" class=\"row_heading level0 row32\" >?</th>\n",
              "                        <td id=\"T_9a68e67c_29e6_11ec_a362_0242ac1c0002row32_col0\" class=\"data row32 col0\" >-0.08</td>\n",
              "            </tr>\n",
              "            <tr>\n",
              "                        <th id=\"T_9a68e67c_29e6_11ec_a362_0242ac1c0002level0_row33\" class=\"row_heading level0 row33\" >Adm-clerical</th>\n",
              "                        <td id=\"T_9a68e67c_29e6_11ec_a362_0242ac1c0002row33_col0\" class=\"data row33 col0\" >-0.09</td>\n",
              "            </tr>\n",
              "            <tr>\n",
              "                        <th id=\"T_9a68e67c_29e6_11ec_a362_0242ac1c0002level0_row34\" class=\"row_heading level0 row34\" >Armed-Forces</th>\n",
              "                        <td id=\"T_9a68e67c_29e6_11ec_a362_0242ac1c0002row34_col0\" class=\"data row34 col0\" >-0.01</td>\n",
              "            </tr>\n",
              "            <tr>\n",
              "                        <th id=\"T_9a68e67c_29e6_11ec_a362_0242ac1c0002level0_row35\" class=\"row_heading level0 row35\" >Craft-repair</th>\n",
              "                        <td id=\"T_9a68e67c_29e6_11ec_a362_0242ac1c0002row35_col0\" class=\"data row35 col0\" >-0.01</td>\n",
              "            </tr>\n",
              "            <tr>\n",
              "                        <th id=\"T_9a68e67c_29e6_11ec_a362_0242ac1c0002level0_row36\" class=\"row_heading level0 row36\" >Exec-managerial</th>\n",
              "                        <td id=\"T_9a68e67c_29e6_11ec_a362_0242ac1c0002row36_col0\" class=\"data row36 col0\" >0.22</td>\n",
              "            </tr>\n",
              "            <tr>\n",
              "                        <th id=\"T_9a68e67c_29e6_11ec_a362_0242ac1c0002level0_row37\" class=\"row_heading level0 row37\" >Farming-fishing</th>\n",
              "                        <td id=\"T_9a68e67c_29e6_11ec_a362_0242ac1c0002row37_col0\" class=\"data row37 col0\" >-0.05</td>\n",
              "            </tr>\n",
              "            <tr>\n",
              "                        <th id=\"T_9a68e67c_29e6_11ec_a362_0242ac1c0002level0_row38\" class=\"row_heading level0 row38\" >Handlers-cleaners</th>\n",
              "                        <td id=\"T_9a68e67c_29e6_11ec_a362_0242ac1c0002row38_col0\" class=\"data row38 col0\" >-0.09</td>\n",
              "            </tr>\n",
              "            <tr>\n",
              "                        <th id=\"T_9a68e67c_29e6_11ec_a362_0242ac1c0002level0_row39\" class=\"row_heading level0 row39\" >Machine-op-inspct</th>\n",
              "                        <td id=\"T_9a68e67c_29e6_11ec_a362_0242ac1c0002row39_col0\" class=\"data row39 col0\" >-0.07</td>\n",
              "            </tr>\n",
              "            <tr>\n",
              "                        <th id=\"T_9a68e67c_29e6_11ec_a362_0242ac1c0002level0_row40\" class=\"row_heading level0 row40\" >Other-service</th>\n",
              "                        <td id=\"T_9a68e67c_29e6_11ec_a362_0242ac1c0002row40_col0\" class=\"data row40 col0\" >-0.15</td>\n",
              "            </tr>\n",
              "            <tr>\n",
              "                        <th id=\"T_9a68e67c_29e6_11ec_a362_0242ac1c0002level0_row41\" class=\"row_heading level0 row41\" >Priv-house-serv</th>\n",
              "                        <td id=\"T_9a68e67c_29e6_11ec_a362_0242ac1c0002row41_col0\" class=\"data row41 col0\" >-0.04</td>\n",
              "            </tr>\n",
              "            <tr>\n",
              "                        <th id=\"T_9a68e67c_29e6_11ec_a362_0242ac1c0002level0_row42\" class=\"row_heading level0 row42\" >Prof-specialty</th>\n",
              "                        <td id=\"T_9a68e67c_29e6_11ec_a362_0242ac1c0002row42_col0\" class=\"data row42 col0\" >0.18</td>\n",
              "            </tr>\n",
              "            <tr>\n",
              "                        <th id=\"T_9a68e67c_29e6_11ec_a362_0242ac1c0002level0_row43\" class=\"row_heading level0 row43\" >Protective-serv</th>\n",
              "                        <td id=\"T_9a68e67c_29e6_11ec_a362_0242ac1c0002row43_col0\" class=\"data row43 col0\" >0.03</td>\n",
              "            </tr>\n",
              "            <tr>\n",
              "                        <th id=\"T_9a68e67c_29e6_11ec_a362_0242ac1c0002level0_row44\" class=\"row_heading level0 row44\" >Sales</th>\n",
              "                        <td id=\"T_9a68e67c_29e6_11ec_a362_0242ac1c0002row44_col0\" class=\"data row44 col0\" >0.02</td>\n",
              "            </tr>\n",
              "            <tr>\n",
              "                        <th id=\"T_9a68e67c_29e6_11ec_a362_0242ac1c0002level0_row45\" class=\"row_heading level0 row45\" >Tech-support</th>\n",
              "                        <td id=\"T_9a68e67c_29e6_11ec_a362_0242ac1c0002row45_col0\" class=\"data row45 col0\" >0.02</td>\n",
              "            </tr>\n",
              "            <tr>\n",
              "                        <th id=\"T_9a68e67c_29e6_11ec_a362_0242ac1c0002level0_row46\" class=\"row_heading level0 row46\" >Transport-moving</th>\n",
              "                        <td id=\"T_9a68e67c_29e6_11ec_a362_0242ac1c0002row46_col0\" class=\"data row46 col0\" >-0.02</td>\n",
              "            </tr>\n",
              "            <tr>\n",
              "                        <th id=\"T_9a68e67c_29e6_11ec_a362_0242ac1c0002level0_row47\" class=\"row_heading level0 row47\" >Husband</th>\n",
              "                        <td id=\"T_9a68e67c_29e6_11ec_a362_0242ac1c0002row47_col0\" class=\"data row47 col0\" >0.40</td>\n",
              "            </tr>\n",
              "            <tr>\n",
              "                        <th id=\"T_9a68e67c_29e6_11ec_a362_0242ac1c0002level0_row48\" class=\"row_heading level0 row48\" >Not-in-family</th>\n",
              "                        <td id=\"T_9a68e67c_29e6_11ec_a362_0242ac1c0002row48_col0\" class=\"data row48 col0\" >-0.19</td>\n",
              "            </tr>\n",
              "            <tr>\n",
              "                        <th id=\"T_9a68e67c_29e6_11ec_a362_0242ac1c0002level0_row49\" class=\"row_heading level0 row49\" >Other-relative</th>\n",
              "                        <td id=\"T_9a68e67c_29e6_11ec_a362_0242ac1c0002row49_col0\" class=\"data row49 col0\" >-0.08</td>\n",
              "            </tr>\n",
              "            <tr>\n",
              "                        <th id=\"T_9a68e67c_29e6_11ec_a362_0242ac1c0002level0_row50\" class=\"row_heading level0 row50\" >Own-child</th>\n",
              "                        <td id=\"T_9a68e67c_29e6_11ec_a362_0242ac1c0002row50_col0\" class=\"data row50 col0\" >-0.23</td>\n",
              "            </tr>\n",
              "            <tr>\n",
              "                        <th id=\"T_9a68e67c_29e6_11ec_a362_0242ac1c0002level0_row51\" class=\"row_heading level0 row51\" >Unmarried</th>\n",
              "                        <td id=\"T_9a68e67c_29e6_11ec_a362_0242ac1c0002row51_col0\" class=\"data row51 col0\" >-0.15</td>\n",
              "            </tr>\n",
              "            <tr>\n",
              "                        <th id=\"T_9a68e67c_29e6_11ec_a362_0242ac1c0002level0_row52\" class=\"row_heading level0 row52\" >Wife</th>\n",
              "                        <td id=\"T_9a68e67c_29e6_11ec_a362_0242ac1c0002row52_col0\" class=\"data row52 col0\" >0.13</td>\n",
              "            </tr>\n",
              "    </tbody></table>"
            ],
            "text/plain": [
              "<pandas.io.formats.style.Styler at 0x7f84543c7850>"
            ]
          },
          "metadata": {},
          "execution_count": 47
        }
      ]
    },
    {
      "cell_type": "code",
      "metadata": {
        "id": "O1ZyJu4NALq2"
      },
      "source": [
        "#age, Gender, Capital Gain, Capital Loss, education-num, hours-per-week\n",
        "\n",
        "#Husband, Married Civilian, Exec-managerial\n",
        "\n",
        "cols_you_need = ['age', 'Gender', 'Capital Gain', 'education-num', 'hours-per-week']\n",
        "#removed capital loss\n",
        "std_features = census_df[cols_you_need].copy()\n",
        "std_features = StandardScaler().fit_transform(std_features)"
      ],
      "execution_count": null,
      "outputs": []
    },
    {
      "cell_type": "code",
      "metadata": {
        "id": "e2719PewCG4C"
      },
      "source": [
        "x_train = std_features\n",
        "y_train = std_labels\n",
        "\n",
        "logreg = LogisticRegression(max_iter = 500)\n",
        "\n",
        "logreg.fit(x_train,y_train)\n",
        "\n",
        "y_train_pred = logreg.predict(x_train)\n",
        "# y_test_pred = logreg.predict(x_test)"
      ],
      "execution_count": null,
      "outputs": []
    },
    {
      "cell_type": "code",
      "metadata": {
        "colab": {
          "base_uri": "https://localhost:8080/"
        },
        "id": "S_merQcJCL3I",
        "outputId": "e956a945-8795-4e37-bc1b-96f48ff1bb60"
      },
      "source": [
        "#print(\"Train Accuracy:\",metrics.accuracy_score(y_normal_train, y_normal_train_pred))\n",
        "#print(\"Test Accuracy:\",metrics.accuracy_score(y_normal_test, y_normal_test_pred))\n",
        "\n",
        "print(\"ROC score:\", metrics.roc_auc_score(y_train, y_train_pred))\n",
        "# print(\"ROC score:\", metrics.roc_auc_score(y_test, y_test_pred))"
      ],
      "execution_count": null,
      "outputs": [
        {
          "output_type": "stream",
          "name": "stdout",
          "text": [
            "ROC score: 0.6821210697086111\n"
          ]
        }
      ]
    },
    {
      "cell_type": "code",
      "metadata": {
        "id": "kBnEuBgxSwWP"
      },
      "source": [
        "from sklearn.decomposition import PCA\n",
        "\n",
        "pca = PCA()\n",
        "\n",
        "x_train = std_features\n",
        "\n",
        "x_train = pca.fit_transform(x_train)\n"
      ],
      "execution_count": null,
      "outputs": []
    },
    {
      "cell_type": "code",
      "metadata": {
        "colab": {
          "base_uri": "https://localhost:8080/"
        },
        "id": "vGgWfvFTTD-5",
        "outputId": "1574d5f7-af91-4728-ed40-0c1c2678c2f2"
      },
      "source": [
        "pca.explained_variance_ratio_"
      ],
      "execution_count": null,
      "outputs": [
        {
          "output_type": "execute_result",
          "data": {
            "text/plain": [
              "array([0.27559111, 0.20789621, 0.1953087 , 0.17540183, 0.14580215])"
            ]
          },
          "metadata": {},
          "execution_count": 52
        }
      ]
    },
    {
      "cell_type": "code",
      "metadata": {
        "id": "nQz-8CMrUEbK",
        "colab": {
          "base_uri": "https://localhost:8080/",
          "height": 487
        },
        "outputId": "66857915-26a4-4437-ff04-d3695fabcf77"
      },
      "source": [
        "census_df"
      ],
      "execution_count": null,
      "outputs": [
        {
          "output_type": "execute_result",
          "data": {
            "text/html": [
              "<div>\n",
              "<style scoped>\n",
              "    .dataframe tbody tr th:only-of-type {\n",
              "        vertical-align: middle;\n",
              "    }\n",
              "\n",
              "    .dataframe tbody tr th {\n",
              "        vertical-align: top;\n",
              "    }\n",
              "\n",
              "    .dataframe thead th {\n",
              "        text-align: right;\n",
              "    }\n",
              "</style>\n",
              "<table border=\"1\" class=\"dataframe\">\n",
              "  <thead>\n",
              "    <tr style=\"text-align: right;\">\n",
              "      <th></th>\n",
              "      <th>age</th>\n",
              "      <th>Financial Weight</th>\n",
              "      <th>education-num</th>\n",
              "      <th>Gender</th>\n",
              "      <th>Capital Gain</th>\n",
              "      <th>Capital Loss</th>\n",
              "      <th>hours-per-week</th>\n",
              "      <th>id</th>\n",
              "      <th>Predictions</th>\n",
              "      <th>10th</th>\n",
              "      <th>11th</th>\n",
              "      <th>12th</th>\n",
              "      <th>1st-4th</th>\n",
              "      <th>5th-6th</th>\n",
              "      <th>7th-8th</th>\n",
              "      <th>9th</th>\n",
              "      <th>Assoc-acdm</th>\n",
              "      <th>Assoc-voc</th>\n",
              "      <th>Bachelors</th>\n",
              "      <th>Doctorate</th>\n",
              "      <th>HS-grad</th>\n",
              "      <th>Masters</th>\n",
              "      <th>Preschool</th>\n",
              "      <th>Prof-school</th>\n",
              "      <th>Some-college</th>\n",
              "      <th>Divorced</th>\n",
              "      <th>Married Civilian</th>\n",
              "      <th>Married but Spouse Absent</th>\n",
              "      <th>Married to Army Official</th>\n",
              "      <th>No Marriage</th>\n",
              "      <th>Separated</th>\n",
              "      <th>Widowed</th>\n",
              "      <th>?</th>\n",
              "      <th>Adm-clerical</th>\n",
              "      <th>Armed-Forces</th>\n",
              "      <th>Craft-repair</th>\n",
              "      <th>Exec-managerial</th>\n",
              "      <th>Farming-fishing</th>\n",
              "      <th>Handlers-cleaners</th>\n",
              "      <th>Machine-op-inspct</th>\n",
              "      <th>Other-service</th>\n",
              "      <th>Priv-house-serv</th>\n",
              "      <th>Prof-specialty</th>\n",
              "      <th>Protective-serv</th>\n",
              "      <th>Sales</th>\n",
              "      <th>Tech-support</th>\n",
              "      <th>Transport-moving</th>\n",
              "      <th>Husband</th>\n",
              "      <th>Not-in-family</th>\n",
              "      <th>Other-relative</th>\n",
              "      <th>Own-child</th>\n",
              "      <th>Unmarried</th>\n",
              "      <th>Wife</th>\n",
              "    </tr>\n",
              "  </thead>\n",
              "  <tbody>\n",
              "    <tr>\n",
              "      <th>0</th>\n",
              "      <td>48</td>\n",
              "      <td>138970</td>\n",
              "      <td>13</td>\n",
              "      <td>1</td>\n",
              "      <td>0</td>\n",
              "      <td>0</td>\n",
              "      <td>45</td>\n",
              "      <td>6900</td>\n",
              "      <td>1</td>\n",
              "      <td>0</td>\n",
              "      <td>0</td>\n",
              "      <td>0</td>\n",
              "      <td>0</td>\n",
              "      <td>0</td>\n",
              "      <td>0</td>\n",
              "      <td>0</td>\n",
              "      <td>0</td>\n",
              "      <td>0</td>\n",
              "      <td>1</td>\n",
              "      <td>0</td>\n",
              "      <td>0</td>\n",
              "      <td>0</td>\n",
              "      <td>0</td>\n",
              "      <td>0</td>\n",
              "      <td>0</td>\n",
              "      <td>0</td>\n",
              "      <td>1</td>\n",
              "      <td>0</td>\n",
              "      <td>0</td>\n",
              "      <td>0</td>\n",
              "      <td>0</td>\n",
              "      <td>0</td>\n",
              "      <td>0</td>\n",
              "      <td>0</td>\n",
              "      <td>0</td>\n",
              "      <td>0</td>\n",
              "      <td>1</td>\n",
              "      <td>0</td>\n",
              "      <td>0</td>\n",
              "      <td>0</td>\n",
              "      <td>0</td>\n",
              "      <td>0</td>\n",
              "      <td>0</td>\n",
              "      <td>0</td>\n",
              "      <td>0</td>\n",
              "      <td>0</td>\n",
              "      <td>0</td>\n",
              "      <td>1</td>\n",
              "      <td>0</td>\n",
              "      <td>0</td>\n",
              "      <td>0</td>\n",
              "      <td>0</td>\n",
              "      <td>0</td>\n",
              "    </tr>\n",
              "    <tr>\n",
              "      <th>1</th>\n",
              "      <td>21</td>\n",
              "      <td>96483</td>\n",
              "      <td>10</td>\n",
              "      <td>0</td>\n",
              "      <td>0</td>\n",
              "      <td>0</td>\n",
              "      <td>12</td>\n",
              "      <td>27355</td>\n",
              "      <td>0</td>\n",
              "      <td>0</td>\n",
              "      <td>0</td>\n",
              "      <td>0</td>\n",
              "      <td>0</td>\n",
              "      <td>0</td>\n",
              "      <td>0</td>\n",
              "      <td>0</td>\n",
              "      <td>0</td>\n",
              "      <td>0</td>\n",
              "      <td>0</td>\n",
              "      <td>0</td>\n",
              "      <td>0</td>\n",
              "      <td>0</td>\n",
              "      <td>0</td>\n",
              "      <td>0</td>\n",
              "      <td>1</td>\n",
              "      <td>0</td>\n",
              "      <td>0</td>\n",
              "      <td>0</td>\n",
              "      <td>0</td>\n",
              "      <td>1</td>\n",
              "      <td>0</td>\n",
              "      <td>0</td>\n",
              "      <td>0</td>\n",
              "      <td>1</td>\n",
              "      <td>0</td>\n",
              "      <td>0</td>\n",
              "      <td>0</td>\n",
              "      <td>0</td>\n",
              "      <td>0</td>\n",
              "      <td>0</td>\n",
              "      <td>0</td>\n",
              "      <td>0</td>\n",
              "      <td>0</td>\n",
              "      <td>0</td>\n",
              "      <td>0</td>\n",
              "      <td>0</td>\n",
              "      <td>0</td>\n",
              "      <td>0</td>\n",
              "      <td>0</td>\n",
              "      <td>0</td>\n",
              "      <td>1</td>\n",
              "      <td>0</td>\n",
              "      <td>0</td>\n",
              "    </tr>\n",
              "    <tr>\n",
              "      <th>2</th>\n",
              "      <td>49</td>\n",
              "      <td>228583</td>\n",
              "      <td>9</td>\n",
              "      <td>1</td>\n",
              "      <td>0</td>\n",
              "      <td>0</td>\n",
              "      <td>40</td>\n",
              "      <td>12701</td>\n",
              "      <td>0</td>\n",
              "      <td>0</td>\n",
              "      <td>0</td>\n",
              "      <td>0</td>\n",
              "      <td>0</td>\n",
              "      <td>0</td>\n",
              "      <td>0</td>\n",
              "      <td>0</td>\n",
              "      <td>0</td>\n",
              "      <td>0</td>\n",
              "      <td>0</td>\n",
              "      <td>0</td>\n",
              "      <td>1</td>\n",
              "      <td>0</td>\n",
              "      <td>0</td>\n",
              "      <td>0</td>\n",
              "      <td>0</td>\n",
              "      <td>1</td>\n",
              "      <td>0</td>\n",
              "      <td>0</td>\n",
              "      <td>0</td>\n",
              "      <td>0</td>\n",
              "      <td>0</td>\n",
              "      <td>0</td>\n",
              "      <td>0</td>\n",
              "      <td>0</td>\n",
              "      <td>0</td>\n",
              "      <td>0</td>\n",
              "      <td>0</td>\n",
              "      <td>0</td>\n",
              "      <td>0</td>\n",
              "      <td>0</td>\n",
              "      <td>1</td>\n",
              "      <td>0</td>\n",
              "      <td>0</td>\n",
              "      <td>0</td>\n",
              "      <td>0</td>\n",
              "      <td>0</td>\n",
              "      <td>0</td>\n",
              "      <td>0</td>\n",
              "      <td>0</td>\n",
              "      <td>0</td>\n",
              "      <td>0</td>\n",
              "      <td>1</td>\n",
              "      <td>0</td>\n",
              "    </tr>\n",
              "    <tr>\n",
              "      <th>3</th>\n",
              "      <td>40</td>\n",
              "      <td>130760</td>\n",
              "      <td>11</td>\n",
              "      <td>1</td>\n",
              "      <td>0</td>\n",
              "      <td>0</td>\n",
              "      <td>50</td>\n",
              "      <td>782</td>\n",
              "      <td>1</td>\n",
              "      <td>0</td>\n",
              "      <td>0</td>\n",
              "      <td>0</td>\n",
              "      <td>0</td>\n",
              "      <td>0</td>\n",
              "      <td>0</td>\n",
              "      <td>0</td>\n",
              "      <td>0</td>\n",
              "      <td>1</td>\n",
              "      <td>0</td>\n",
              "      <td>0</td>\n",
              "      <td>0</td>\n",
              "      <td>0</td>\n",
              "      <td>0</td>\n",
              "      <td>0</td>\n",
              "      <td>0</td>\n",
              "      <td>0</td>\n",
              "      <td>1</td>\n",
              "      <td>0</td>\n",
              "      <td>0</td>\n",
              "      <td>0</td>\n",
              "      <td>0</td>\n",
              "      <td>0</td>\n",
              "      <td>0</td>\n",
              "      <td>0</td>\n",
              "      <td>0</td>\n",
              "      <td>0</td>\n",
              "      <td>1</td>\n",
              "      <td>0</td>\n",
              "      <td>0</td>\n",
              "      <td>0</td>\n",
              "      <td>0</td>\n",
              "      <td>0</td>\n",
              "      <td>0</td>\n",
              "      <td>0</td>\n",
              "      <td>0</td>\n",
              "      <td>0</td>\n",
              "      <td>0</td>\n",
              "      <td>1</td>\n",
              "      <td>0</td>\n",
              "      <td>0</td>\n",
              "      <td>0</td>\n",
              "      <td>0</td>\n",
              "      <td>0</td>\n",
              "    </tr>\n",
              "    <tr>\n",
              "      <th>4</th>\n",
              "      <td>55</td>\n",
              "      <td>223716</td>\n",
              "      <td>10</td>\n",
              "      <td>0</td>\n",
              "      <td>0</td>\n",
              "      <td>0</td>\n",
              "      <td>40</td>\n",
              "      <td>20462</td>\n",
              "      <td>0</td>\n",
              "      <td>0</td>\n",
              "      <td>0</td>\n",
              "      <td>0</td>\n",
              "      <td>0</td>\n",
              "      <td>0</td>\n",
              "      <td>0</td>\n",
              "      <td>0</td>\n",
              "      <td>0</td>\n",
              "      <td>0</td>\n",
              "      <td>0</td>\n",
              "      <td>0</td>\n",
              "      <td>0</td>\n",
              "      <td>0</td>\n",
              "      <td>0</td>\n",
              "      <td>0</td>\n",
              "      <td>1</td>\n",
              "      <td>1</td>\n",
              "      <td>0</td>\n",
              "      <td>0</td>\n",
              "      <td>0</td>\n",
              "      <td>0</td>\n",
              "      <td>0</td>\n",
              "      <td>0</td>\n",
              "      <td>0</td>\n",
              "      <td>0</td>\n",
              "      <td>0</td>\n",
              "      <td>0</td>\n",
              "      <td>1</td>\n",
              "      <td>0</td>\n",
              "      <td>0</td>\n",
              "      <td>0</td>\n",
              "      <td>0</td>\n",
              "      <td>0</td>\n",
              "      <td>0</td>\n",
              "      <td>0</td>\n",
              "      <td>0</td>\n",
              "      <td>0</td>\n",
              "      <td>0</td>\n",
              "      <td>0</td>\n",
              "      <td>1</td>\n",
              "      <td>0</td>\n",
              "      <td>0</td>\n",
              "      <td>0</td>\n",
              "      <td>0</td>\n",
              "    </tr>\n",
              "    <tr>\n",
              "      <th>...</th>\n",
              "      <td>...</td>\n",
              "      <td>...</td>\n",
              "      <td>...</td>\n",
              "      <td>...</td>\n",
              "      <td>...</td>\n",
              "      <td>...</td>\n",
              "      <td>...</td>\n",
              "      <td>...</td>\n",
              "      <td>...</td>\n",
              "      <td>...</td>\n",
              "      <td>...</td>\n",
              "      <td>...</td>\n",
              "      <td>...</td>\n",
              "      <td>...</td>\n",
              "      <td>...</td>\n",
              "      <td>...</td>\n",
              "      <td>...</td>\n",
              "      <td>...</td>\n",
              "      <td>...</td>\n",
              "      <td>...</td>\n",
              "      <td>...</td>\n",
              "      <td>...</td>\n",
              "      <td>...</td>\n",
              "      <td>...</td>\n",
              "      <td>...</td>\n",
              "      <td>...</td>\n",
              "      <td>...</td>\n",
              "      <td>...</td>\n",
              "      <td>...</td>\n",
              "      <td>...</td>\n",
              "      <td>...</td>\n",
              "      <td>...</td>\n",
              "      <td>...</td>\n",
              "      <td>...</td>\n",
              "      <td>...</td>\n",
              "      <td>...</td>\n",
              "      <td>...</td>\n",
              "      <td>...</td>\n",
              "      <td>...</td>\n",
              "      <td>...</td>\n",
              "      <td>...</td>\n",
              "      <td>...</td>\n",
              "      <td>...</td>\n",
              "      <td>...</td>\n",
              "      <td>...</td>\n",
              "      <td>...</td>\n",
              "      <td>...</td>\n",
              "      <td>...</td>\n",
              "      <td>...</td>\n",
              "      <td>...</td>\n",
              "      <td>...</td>\n",
              "      <td>...</td>\n",
              "      <td>...</td>\n",
              "    </tr>\n",
              "    <tr>\n",
              "      <th>22787</th>\n",
              "      <td>33</td>\n",
              "      <td>123424</td>\n",
              "      <td>13</td>\n",
              "      <td>1</td>\n",
              "      <td>0</td>\n",
              "      <td>0</td>\n",
              "      <td>40</td>\n",
              "      <td>958</td>\n",
              "      <td>1</td>\n",
              "      <td>0</td>\n",
              "      <td>0</td>\n",
              "      <td>0</td>\n",
              "      <td>0</td>\n",
              "      <td>0</td>\n",
              "      <td>0</td>\n",
              "      <td>0</td>\n",
              "      <td>0</td>\n",
              "      <td>0</td>\n",
              "      <td>1</td>\n",
              "      <td>0</td>\n",
              "      <td>0</td>\n",
              "      <td>0</td>\n",
              "      <td>0</td>\n",
              "      <td>0</td>\n",
              "      <td>0</td>\n",
              "      <td>0</td>\n",
              "      <td>1</td>\n",
              "      <td>0</td>\n",
              "      <td>0</td>\n",
              "      <td>0</td>\n",
              "      <td>0</td>\n",
              "      <td>0</td>\n",
              "      <td>0</td>\n",
              "      <td>0</td>\n",
              "      <td>0</td>\n",
              "      <td>0</td>\n",
              "      <td>1</td>\n",
              "      <td>0</td>\n",
              "      <td>0</td>\n",
              "      <td>0</td>\n",
              "      <td>0</td>\n",
              "      <td>0</td>\n",
              "      <td>0</td>\n",
              "      <td>0</td>\n",
              "      <td>0</td>\n",
              "      <td>0</td>\n",
              "      <td>0</td>\n",
              "      <td>1</td>\n",
              "      <td>0</td>\n",
              "      <td>0</td>\n",
              "      <td>0</td>\n",
              "      <td>0</td>\n",
              "      <td>0</td>\n",
              "    </tr>\n",
              "    <tr>\n",
              "      <th>22788</th>\n",
              "      <td>38</td>\n",
              "      <td>218729</td>\n",
              "      <td>9</td>\n",
              "      <td>0</td>\n",
              "      <td>0</td>\n",
              "      <td>0</td>\n",
              "      <td>25</td>\n",
              "      <td>19469</td>\n",
              "      <td>0</td>\n",
              "      <td>0</td>\n",
              "      <td>0</td>\n",
              "      <td>0</td>\n",
              "      <td>0</td>\n",
              "      <td>0</td>\n",
              "      <td>0</td>\n",
              "      <td>0</td>\n",
              "      <td>0</td>\n",
              "      <td>0</td>\n",
              "      <td>0</td>\n",
              "      <td>0</td>\n",
              "      <td>1</td>\n",
              "      <td>0</td>\n",
              "      <td>0</td>\n",
              "      <td>0</td>\n",
              "      <td>0</td>\n",
              "      <td>1</td>\n",
              "      <td>0</td>\n",
              "      <td>0</td>\n",
              "      <td>0</td>\n",
              "      <td>0</td>\n",
              "      <td>0</td>\n",
              "      <td>0</td>\n",
              "      <td>0</td>\n",
              "      <td>0</td>\n",
              "      <td>0</td>\n",
              "      <td>0</td>\n",
              "      <td>0</td>\n",
              "      <td>0</td>\n",
              "      <td>0</td>\n",
              "      <td>0</td>\n",
              "      <td>1</td>\n",
              "      <td>0</td>\n",
              "      <td>0</td>\n",
              "      <td>0</td>\n",
              "      <td>0</td>\n",
              "      <td>0</td>\n",
              "      <td>0</td>\n",
              "      <td>0</td>\n",
              "      <td>1</td>\n",
              "      <td>0</td>\n",
              "      <td>0</td>\n",
              "      <td>0</td>\n",
              "      <td>0</td>\n",
              "    </tr>\n",
              "    <tr>\n",
              "      <th>22789</th>\n",
              "      <td>33</td>\n",
              "      <td>62932</td>\n",
              "      <td>9</td>\n",
              "      <td>1</td>\n",
              "      <td>0</td>\n",
              "      <td>0</td>\n",
              "      <td>40</td>\n",
              "      <td>27174</td>\n",
              "      <td>0</td>\n",
              "      <td>0</td>\n",
              "      <td>0</td>\n",
              "      <td>0</td>\n",
              "      <td>0</td>\n",
              "      <td>0</td>\n",
              "      <td>0</td>\n",
              "      <td>0</td>\n",
              "      <td>0</td>\n",
              "      <td>0</td>\n",
              "      <td>0</td>\n",
              "      <td>0</td>\n",
              "      <td>1</td>\n",
              "      <td>0</td>\n",
              "      <td>0</td>\n",
              "      <td>0</td>\n",
              "      <td>0</td>\n",
              "      <td>0</td>\n",
              "      <td>1</td>\n",
              "      <td>0</td>\n",
              "      <td>0</td>\n",
              "      <td>0</td>\n",
              "      <td>0</td>\n",
              "      <td>0</td>\n",
              "      <td>0</td>\n",
              "      <td>0</td>\n",
              "      <td>0</td>\n",
              "      <td>1</td>\n",
              "      <td>0</td>\n",
              "      <td>0</td>\n",
              "      <td>0</td>\n",
              "      <td>0</td>\n",
              "      <td>0</td>\n",
              "      <td>0</td>\n",
              "      <td>0</td>\n",
              "      <td>0</td>\n",
              "      <td>0</td>\n",
              "      <td>0</td>\n",
              "      <td>0</td>\n",
              "      <td>1</td>\n",
              "      <td>0</td>\n",
              "      <td>0</td>\n",
              "      <td>0</td>\n",
              "      <td>0</td>\n",
              "      <td>0</td>\n",
              "    </tr>\n",
              "    <tr>\n",
              "      <th>22790</th>\n",
              "      <td>41</td>\n",
              "      <td>155657</td>\n",
              "      <td>7</td>\n",
              "      <td>0</td>\n",
              "      <td>0</td>\n",
              "      <td>0</td>\n",
              "      <td>40</td>\n",
              "      <td>15888</td>\n",
              "      <td>0</td>\n",
              "      <td>0</td>\n",
              "      <td>1</td>\n",
              "      <td>0</td>\n",
              "      <td>0</td>\n",
              "      <td>0</td>\n",
              "      <td>0</td>\n",
              "      <td>0</td>\n",
              "      <td>0</td>\n",
              "      <td>0</td>\n",
              "      <td>0</td>\n",
              "      <td>0</td>\n",
              "      <td>0</td>\n",
              "      <td>0</td>\n",
              "      <td>0</td>\n",
              "      <td>0</td>\n",
              "      <td>0</td>\n",
              "      <td>0</td>\n",
              "      <td>0</td>\n",
              "      <td>0</td>\n",
              "      <td>0</td>\n",
              "      <td>1</td>\n",
              "      <td>0</td>\n",
              "      <td>0</td>\n",
              "      <td>0</td>\n",
              "      <td>0</td>\n",
              "      <td>0</td>\n",
              "      <td>0</td>\n",
              "      <td>0</td>\n",
              "      <td>0</td>\n",
              "      <td>1</td>\n",
              "      <td>0</td>\n",
              "      <td>0</td>\n",
              "      <td>0</td>\n",
              "      <td>0</td>\n",
              "      <td>0</td>\n",
              "      <td>0</td>\n",
              "      <td>0</td>\n",
              "      <td>0</td>\n",
              "      <td>0</td>\n",
              "      <td>0</td>\n",
              "      <td>1</td>\n",
              "      <td>0</td>\n",
              "      <td>0</td>\n",
              "      <td>0</td>\n",
              "    </tr>\n",
              "    <tr>\n",
              "      <th>22791</th>\n",
              "      <td>25</td>\n",
              "      <td>45474</td>\n",
              "      <td>13</td>\n",
              "      <td>1</td>\n",
              "      <td>0</td>\n",
              "      <td>0</td>\n",
              "      <td>60</td>\n",
              "      <td>29624</td>\n",
              "      <td>0</td>\n",
              "      <td>0</td>\n",
              "      <td>0</td>\n",
              "      <td>0</td>\n",
              "      <td>0</td>\n",
              "      <td>0</td>\n",
              "      <td>0</td>\n",
              "      <td>0</td>\n",
              "      <td>0</td>\n",
              "      <td>0</td>\n",
              "      <td>1</td>\n",
              "      <td>0</td>\n",
              "      <td>0</td>\n",
              "      <td>0</td>\n",
              "      <td>0</td>\n",
              "      <td>0</td>\n",
              "      <td>0</td>\n",
              "      <td>0</td>\n",
              "      <td>1</td>\n",
              "      <td>0</td>\n",
              "      <td>0</td>\n",
              "      <td>0</td>\n",
              "      <td>0</td>\n",
              "      <td>0</td>\n",
              "      <td>0</td>\n",
              "      <td>0</td>\n",
              "      <td>0</td>\n",
              "      <td>0</td>\n",
              "      <td>0</td>\n",
              "      <td>0</td>\n",
              "      <td>0</td>\n",
              "      <td>0</td>\n",
              "      <td>0</td>\n",
              "      <td>0</td>\n",
              "      <td>1</td>\n",
              "      <td>0</td>\n",
              "      <td>0</td>\n",
              "      <td>0</td>\n",
              "      <td>0</td>\n",
              "      <td>1</td>\n",
              "      <td>0</td>\n",
              "      <td>0</td>\n",
              "      <td>0</td>\n",
              "      <td>0</td>\n",
              "      <td>0</td>\n",
              "    </tr>\n",
              "  </tbody>\n",
              "</table>\n",
              "<p>22725 rows × 53 columns</p>\n",
              "</div>"
            ],
            "text/plain": [
              "       age  Financial Weight  education-num  ...  Own-child  Unmarried  Wife\n",
              "0       48            138970             13  ...          0          0     0\n",
              "1       21             96483             10  ...          1          0     0\n",
              "2       49            228583              9  ...          0          1     0\n",
              "3       40            130760             11  ...          0          0     0\n",
              "4       55            223716             10  ...          0          0     0\n",
              "...    ...               ...            ...  ...        ...        ...   ...\n",
              "22787   33            123424             13  ...          0          0     0\n",
              "22788   38            218729              9  ...          0          0     0\n",
              "22789   33             62932              9  ...          0          0     0\n",
              "22790   41            155657              7  ...          0          0     0\n",
              "22791   25             45474             13  ...          0          0     0\n",
              "\n",
              "[22725 rows x 53 columns]"
            ]
          },
          "metadata": {},
          "execution_count": 53
        }
      ]
    },
    {
      "cell_type": "markdown",
      "metadata": {
        "id": "5D01BMWQyt8Z"
      },
      "source": [
        "Tried to check which columns can be dropped based on corr and covar. Managed to improve logreg score"
      ]
    },
    {
      "cell_type": "code",
      "metadata": {
        "colab": {
          "base_uri": "https://localhost:8080/"
        },
        "id": "-Va82eF6UPfB",
        "outputId": "c58f88db-97f4-43bd-9e9f-75f3b5fc249a"
      },
      "source": [
        "\n",
        "# cols_to_drop = ['Unmarried','Own-child',  'Not-in-family', 'Tech-support','Protective-serv','Prof-specialty',  'Exec-managerial', \n",
        "#                 'Married but Spouse Absent', 'Divorced', 'Assoc-voc', 'Assoc-acdm', 'HS-grad',  'Widowed'] \n",
        "# cols_to_drop = ['Unmarried','Own-child',  'Not-in-family','Tech-support', 'Protective-serv', 'Prof-specialty', 'Handlers-cleaners'] ROC score: 0.7589440794409951\n",
        "# cols_to_drop = ['Unmarried','Own-child',  'Not-in-family','Tech-support', 'Protective-serv', 'Prof-specialty', 'Machine-op-inspct'] ROC score: 0.758554251409927\n",
        "# cols_to_drop = ['Wife', 'Unmarried', 'Own-child','Other-relative', 'Not-in-family', 'Transport-moving', 'Tech-support', 'Sales']  ROC score: 0.7607927985998456\n",
        "# cols_to_drop = ['Wife', 'Unmarried', 'Own-child', 'Not-in-family', 'Tech-support', 'Protective-serv'] ROC score: 0.7611869508787463\n",
        "# cols_to_drop = ['Wife', 'Unmarried', 'Own-child', 'Not-in-family', 'Tech-support', 'Protective-serv', 'Prof-specialty'] ROC score: 0.7614318345684415\n",
        "# cols_to_drop = ['Wife', 'Unmarried', 'Own-child', 'Not-in-family','Tech-support', 'Protective-serv', 'Prof-specialty'] + ['Predictions'] ROC score: 0.7616723940103038\n",
        "# cols_to_drop = ['Unmarried', 'Own-child', 'Not-in-family','Tech-support', 'Protective-serv', 'Prof-specialty'] + ['Predictions'] ROC score: 0.7623940723358907\n",
        "# cols_to_drop = ['Unmarried','Own-child',  'Not-in-family', 'Tech-support','Protective-serv', 'Prof-specialty', 'Exec-managerial'] ROC score: 0.764038588550264\n",
        "# cols_to_drop = ['Unmarried', 'Own-child',  'Not-in-family', 'Tech-support','Protective-serv','Prof-specialty',  'Exec-managerial', 'Married but Spouse Absent', 'Separated'] ROC score: 0.7641298794029205\n",
        "# cols_to_drop = ['Unmarried','Own-child',  'Not-in-family', 'Tech-support','Protective-serv','Prof-specialty',  'Exec-managerial', \n",
        "                # 'Married but Spouse Absent', 'Separated', 'Divorced']  ROC score: 0.7644037519608903\n",
        "cols_to_drop = ['Unmarried','Own-child',  'Not-in-family', 'Tech-support','Protective-serv','Prof-specialty', 'Exec-managerial', \n",
        "                'Married but Spouse Absent', 'Divorced', 'Assoc-voc', 'Assoc-acdm'] \n",
        "\n",
        "std_features = census_df.drop(['Predictions'] + cols_to_drop, axis = 1)\n",
        "std_labels = census_df['Predictions']\n",
        "\n",
        "std_features = StandardScaler().fit_transform(std_features)\n",
        "\n",
        "from sklearn.linear_model import LogisticRegression\n",
        "\n",
        "x_train = std_features\n",
        "y_train = std_labels\n",
        "\n",
        "logreg = LogisticRegression(max_iter = 300)\n",
        "\n",
        "logreg.fit(x_train,y_train)\n",
        "\n",
        "y_train_pred = logreg.predict(x_train)\n",
        "\n",
        "print(\"ROC score:\", metrics.roc_auc_score(y_train, y_train_pred))"
      ],
      "execution_count": null,
      "outputs": [
        {
          "output_type": "stream",
          "name": "stdout",
          "text": [
            "ROC score: 0.7645240316818214\n"
          ]
        }
      ]
    },
    {
      "cell_type": "markdown",
      "metadata": {
        "id": "u-a7WGCNzBhO"
      },
      "source": [
        "### Tried SVC"
      ]
    },
    {
      "cell_type": "code",
      "metadata": {
        "colab": {
          "base_uri": "https://localhost:8080/"
        },
        "id": "E_oNGWfgh9fI",
        "outputId": "2b1095a0-1bc2-42ff-8e7f-8fd468234ba6"
      },
      "source": [
        "from sklearn.svm import SVC\n",
        "\n",
        "svclassifier = SVC(kernel='linear')\n",
        "svclassifier.fit(x_train, y_train)\n",
        "\n",
        "y_svm_train_pred = svclassifier.predict(x_train)\n",
        "print(\"SVM ROC Train Accuracy:\", metrics.roc_auc_score(y_train, y_svm_train_pred))"
      ],
      "execution_count": null,
      "outputs": [
        {
          "output_type": "stream",
          "name": "stdout",
          "text": [
            "SVM ROC Train Accuracy: 0.7536570592641922\n"
          ]
        }
      ]
    },
    {
      "cell_type": "code",
      "metadata": {
        "colab": {
          "base_uri": "https://localhost:8080/",
          "height": 274
        },
        "id": "ecQ6u-CqXqgu",
        "outputId": "f35c2f42-b608-42fa-a32d-d4d4263dc2f3"
      },
      "source": [
        "census_df.head()"
      ],
      "execution_count": null,
      "outputs": [
        {
          "output_type": "execute_result",
          "data": {
            "text/html": [
              "<div>\n",
              "<style scoped>\n",
              "    .dataframe tbody tr th:only-of-type {\n",
              "        vertical-align: middle;\n",
              "    }\n",
              "\n",
              "    .dataframe tbody tr th {\n",
              "        vertical-align: top;\n",
              "    }\n",
              "\n",
              "    .dataframe thead th {\n",
              "        text-align: right;\n",
              "    }\n",
              "</style>\n",
              "<table border=\"1\" class=\"dataframe\">\n",
              "  <thead>\n",
              "    <tr style=\"text-align: right;\">\n",
              "      <th></th>\n",
              "      <th>age</th>\n",
              "      <th>Financial Weight</th>\n",
              "      <th>education-num</th>\n",
              "      <th>Gender</th>\n",
              "      <th>Capital Gain</th>\n",
              "      <th>Capital Loss</th>\n",
              "      <th>hours-per-week</th>\n",
              "      <th>id</th>\n",
              "      <th>Predictions</th>\n",
              "      <th>10th</th>\n",
              "      <th>11th</th>\n",
              "      <th>12th</th>\n",
              "      <th>1st-4th</th>\n",
              "      <th>5th-6th</th>\n",
              "      <th>7th-8th</th>\n",
              "      <th>9th</th>\n",
              "      <th>Assoc-acdm</th>\n",
              "      <th>Assoc-voc</th>\n",
              "      <th>Bachelors</th>\n",
              "      <th>Doctorate</th>\n",
              "      <th>HS-grad</th>\n",
              "      <th>Masters</th>\n",
              "      <th>Preschool</th>\n",
              "      <th>Prof-school</th>\n",
              "      <th>Some-college</th>\n",
              "      <th>Divorced</th>\n",
              "      <th>Married Civilian</th>\n",
              "      <th>Married but Spouse Absent</th>\n",
              "      <th>Married to Army Official</th>\n",
              "      <th>No Marriage</th>\n",
              "      <th>Separated</th>\n",
              "      <th>Widowed</th>\n",
              "      <th>?</th>\n",
              "      <th>Adm-clerical</th>\n",
              "      <th>Armed-Forces</th>\n",
              "      <th>Craft-repair</th>\n",
              "      <th>Exec-managerial</th>\n",
              "      <th>Farming-fishing</th>\n",
              "      <th>Handlers-cleaners</th>\n",
              "      <th>Machine-op-inspct</th>\n",
              "      <th>Other-service</th>\n",
              "      <th>Priv-house-serv</th>\n",
              "      <th>Prof-specialty</th>\n",
              "      <th>Protective-serv</th>\n",
              "      <th>Sales</th>\n",
              "      <th>Tech-support</th>\n",
              "      <th>Transport-moving</th>\n",
              "      <th>Husband</th>\n",
              "      <th>Not-in-family</th>\n",
              "      <th>Other-relative</th>\n",
              "      <th>Own-child</th>\n",
              "      <th>Unmarried</th>\n",
              "      <th>Wife</th>\n",
              "    </tr>\n",
              "  </thead>\n",
              "  <tbody>\n",
              "    <tr>\n",
              "      <th>0</th>\n",
              "      <td>48</td>\n",
              "      <td>138970</td>\n",
              "      <td>13</td>\n",
              "      <td>1</td>\n",
              "      <td>0</td>\n",
              "      <td>0</td>\n",
              "      <td>45</td>\n",
              "      <td>6900</td>\n",
              "      <td>1</td>\n",
              "      <td>0</td>\n",
              "      <td>0</td>\n",
              "      <td>0</td>\n",
              "      <td>0</td>\n",
              "      <td>0</td>\n",
              "      <td>0</td>\n",
              "      <td>0</td>\n",
              "      <td>0</td>\n",
              "      <td>0</td>\n",
              "      <td>1</td>\n",
              "      <td>0</td>\n",
              "      <td>0</td>\n",
              "      <td>0</td>\n",
              "      <td>0</td>\n",
              "      <td>0</td>\n",
              "      <td>0</td>\n",
              "      <td>0</td>\n",
              "      <td>1</td>\n",
              "      <td>0</td>\n",
              "      <td>0</td>\n",
              "      <td>0</td>\n",
              "      <td>0</td>\n",
              "      <td>0</td>\n",
              "      <td>0</td>\n",
              "      <td>0</td>\n",
              "      <td>0</td>\n",
              "      <td>0</td>\n",
              "      <td>1</td>\n",
              "      <td>0</td>\n",
              "      <td>0</td>\n",
              "      <td>0</td>\n",
              "      <td>0</td>\n",
              "      <td>0</td>\n",
              "      <td>0</td>\n",
              "      <td>0</td>\n",
              "      <td>0</td>\n",
              "      <td>0</td>\n",
              "      <td>0</td>\n",
              "      <td>1</td>\n",
              "      <td>0</td>\n",
              "      <td>0</td>\n",
              "      <td>0</td>\n",
              "      <td>0</td>\n",
              "      <td>0</td>\n",
              "    </tr>\n",
              "    <tr>\n",
              "      <th>1</th>\n",
              "      <td>21</td>\n",
              "      <td>96483</td>\n",
              "      <td>10</td>\n",
              "      <td>0</td>\n",
              "      <td>0</td>\n",
              "      <td>0</td>\n",
              "      <td>12</td>\n",
              "      <td>27355</td>\n",
              "      <td>0</td>\n",
              "      <td>0</td>\n",
              "      <td>0</td>\n",
              "      <td>0</td>\n",
              "      <td>0</td>\n",
              "      <td>0</td>\n",
              "      <td>0</td>\n",
              "      <td>0</td>\n",
              "      <td>0</td>\n",
              "      <td>0</td>\n",
              "      <td>0</td>\n",
              "      <td>0</td>\n",
              "      <td>0</td>\n",
              "      <td>0</td>\n",
              "      <td>0</td>\n",
              "      <td>0</td>\n",
              "      <td>1</td>\n",
              "      <td>0</td>\n",
              "      <td>0</td>\n",
              "      <td>0</td>\n",
              "      <td>0</td>\n",
              "      <td>1</td>\n",
              "      <td>0</td>\n",
              "      <td>0</td>\n",
              "      <td>0</td>\n",
              "      <td>1</td>\n",
              "      <td>0</td>\n",
              "      <td>0</td>\n",
              "      <td>0</td>\n",
              "      <td>0</td>\n",
              "      <td>0</td>\n",
              "      <td>0</td>\n",
              "      <td>0</td>\n",
              "      <td>0</td>\n",
              "      <td>0</td>\n",
              "      <td>0</td>\n",
              "      <td>0</td>\n",
              "      <td>0</td>\n",
              "      <td>0</td>\n",
              "      <td>0</td>\n",
              "      <td>0</td>\n",
              "      <td>0</td>\n",
              "      <td>1</td>\n",
              "      <td>0</td>\n",
              "      <td>0</td>\n",
              "    </tr>\n",
              "    <tr>\n",
              "      <th>2</th>\n",
              "      <td>49</td>\n",
              "      <td>228583</td>\n",
              "      <td>9</td>\n",
              "      <td>1</td>\n",
              "      <td>0</td>\n",
              "      <td>0</td>\n",
              "      <td>40</td>\n",
              "      <td>12701</td>\n",
              "      <td>0</td>\n",
              "      <td>0</td>\n",
              "      <td>0</td>\n",
              "      <td>0</td>\n",
              "      <td>0</td>\n",
              "      <td>0</td>\n",
              "      <td>0</td>\n",
              "      <td>0</td>\n",
              "      <td>0</td>\n",
              "      <td>0</td>\n",
              "      <td>0</td>\n",
              "      <td>0</td>\n",
              "      <td>1</td>\n",
              "      <td>0</td>\n",
              "      <td>0</td>\n",
              "      <td>0</td>\n",
              "      <td>0</td>\n",
              "      <td>1</td>\n",
              "      <td>0</td>\n",
              "      <td>0</td>\n",
              "      <td>0</td>\n",
              "      <td>0</td>\n",
              "      <td>0</td>\n",
              "      <td>0</td>\n",
              "      <td>0</td>\n",
              "      <td>0</td>\n",
              "      <td>0</td>\n",
              "      <td>0</td>\n",
              "      <td>0</td>\n",
              "      <td>0</td>\n",
              "      <td>0</td>\n",
              "      <td>0</td>\n",
              "      <td>1</td>\n",
              "      <td>0</td>\n",
              "      <td>0</td>\n",
              "      <td>0</td>\n",
              "      <td>0</td>\n",
              "      <td>0</td>\n",
              "      <td>0</td>\n",
              "      <td>0</td>\n",
              "      <td>0</td>\n",
              "      <td>0</td>\n",
              "      <td>0</td>\n",
              "      <td>1</td>\n",
              "      <td>0</td>\n",
              "    </tr>\n",
              "    <tr>\n",
              "      <th>3</th>\n",
              "      <td>40</td>\n",
              "      <td>130760</td>\n",
              "      <td>11</td>\n",
              "      <td>1</td>\n",
              "      <td>0</td>\n",
              "      <td>0</td>\n",
              "      <td>50</td>\n",
              "      <td>782</td>\n",
              "      <td>1</td>\n",
              "      <td>0</td>\n",
              "      <td>0</td>\n",
              "      <td>0</td>\n",
              "      <td>0</td>\n",
              "      <td>0</td>\n",
              "      <td>0</td>\n",
              "      <td>0</td>\n",
              "      <td>0</td>\n",
              "      <td>1</td>\n",
              "      <td>0</td>\n",
              "      <td>0</td>\n",
              "      <td>0</td>\n",
              "      <td>0</td>\n",
              "      <td>0</td>\n",
              "      <td>0</td>\n",
              "      <td>0</td>\n",
              "      <td>0</td>\n",
              "      <td>1</td>\n",
              "      <td>0</td>\n",
              "      <td>0</td>\n",
              "      <td>0</td>\n",
              "      <td>0</td>\n",
              "      <td>0</td>\n",
              "      <td>0</td>\n",
              "      <td>0</td>\n",
              "      <td>0</td>\n",
              "      <td>0</td>\n",
              "      <td>1</td>\n",
              "      <td>0</td>\n",
              "      <td>0</td>\n",
              "      <td>0</td>\n",
              "      <td>0</td>\n",
              "      <td>0</td>\n",
              "      <td>0</td>\n",
              "      <td>0</td>\n",
              "      <td>0</td>\n",
              "      <td>0</td>\n",
              "      <td>0</td>\n",
              "      <td>1</td>\n",
              "      <td>0</td>\n",
              "      <td>0</td>\n",
              "      <td>0</td>\n",
              "      <td>0</td>\n",
              "      <td>0</td>\n",
              "    </tr>\n",
              "    <tr>\n",
              "      <th>4</th>\n",
              "      <td>55</td>\n",
              "      <td>223716</td>\n",
              "      <td>10</td>\n",
              "      <td>0</td>\n",
              "      <td>0</td>\n",
              "      <td>0</td>\n",
              "      <td>40</td>\n",
              "      <td>20462</td>\n",
              "      <td>0</td>\n",
              "      <td>0</td>\n",
              "      <td>0</td>\n",
              "      <td>0</td>\n",
              "      <td>0</td>\n",
              "      <td>0</td>\n",
              "      <td>0</td>\n",
              "      <td>0</td>\n",
              "      <td>0</td>\n",
              "      <td>0</td>\n",
              "      <td>0</td>\n",
              "      <td>0</td>\n",
              "      <td>0</td>\n",
              "      <td>0</td>\n",
              "      <td>0</td>\n",
              "      <td>0</td>\n",
              "      <td>1</td>\n",
              "      <td>1</td>\n",
              "      <td>0</td>\n",
              "      <td>0</td>\n",
              "      <td>0</td>\n",
              "      <td>0</td>\n",
              "      <td>0</td>\n",
              "      <td>0</td>\n",
              "      <td>0</td>\n",
              "      <td>0</td>\n",
              "      <td>0</td>\n",
              "      <td>0</td>\n",
              "      <td>1</td>\n",
              "      <td>0</td>\n",
              "      <td>0</td>\n",
              "      <td>0</td>\n",
              "      <td>0</td>\n",
              "      <td>0</td>\n",
              "      <td>0</td>\n",
              "      <td>0</td>\n",
              "      <td>0</td>\n",
              "      <td>0</td>\n",
              "      <td>0</td>\n",
              "      <td>0</td>\n",
              "      <td>1</td>\n",
              "      <td>0</td>\n",
              "      <td>0</td>\n",
              "      <td>0</td>\n",
              "      <td>0</td>\n",
              "    </tr>\n",
              "  </tbody>\n",
              "</table>\n",
              "</div>"
            ],
            "text/plain": [
              "   age  Financial Weight  education-num  ...  Own-child  Unmarried  Wife\n",
              "0   48            138970             13  ...          0          0     0\n",
              "1   21             96483             10  ...          1          0     0\n",
              "2   49            228583              9  ...          0          1     0\n",
              "3   40            130760             11  ...          0          0     0\n",
              "4   55            223716             10  ...          0          0     0\n",
              "\n",
              "[5 rows x 53 columns]"
            ]
          },
          "metadata": {},
          "execution_count": 56
        }
      ]
    },
    {
      "cell_type": "code",
      "metadata": {
        "id": "cHYQhS-GRnjZ"
      },
      "source": [
        "std_features = test_df.drop(cols_to_drop, axis = 1)\n",
        "std_features = StandardScaler().fit_transform(std_features)"
      ],
      "execution_count": null,
      "outputs": []
    },
    {
      "cell_type": "code",
      "metadata": {
        "id": "lEV-b5Fw_ZOD"
      },
      "source": [
        "y_pred = logreg.predict(std_features)"
      ],
      "execution_count": null,
      "outputs": []
    },
    {
      "cell_type": "code",
      "metadata": {
        "id": "zcFTBPr1_drs"
      },
      "source": [
        "test_df[\"Predictions\"] = y_pred"
      ],
      "execution_count": null,
      "outputs": []
    },
    {
      "cell_type": "code",
      "metadata": {
        "id": "rw0EmMrGZebE",
        "colab": {
          "base_uri": "https://localhost:8080/"
        },
        "outputId": "69d83c59-6b73-4b64-ca1e-b4e47bfc47b9"
      },
      "source": [
        "len(test_df)"
      ],
      "execution_count": null,
      "outputs": [
        {
          "output_type": "execute_result",
          "data": {
            "text/plain": [
              "9769"
            ]
          },
          "metadata": {},
          "execution_count": 60
        }
      ]
    },
    {
      "cell_type": "code",
      "metadata": {
        "id": "oNtp3uJ7ZQMR",
        "colab": {
          "base_uri": "https://localhost:8080/"
        },
        "outputId": "128c488f-350c-48a4-b683-30b024eb32c7"
      },
      "source": [
        "len(test_df[test_df['Predictions'] == 0])"
      ],
      "execution_count": null,
      "outputs": [
        {
          "output_type": "execute_result",
          "data": {
            "text/plain": [
              "7831"
            ]
          },
          "metadata": {},
          "execution_count": 61
        }
      ]
    },
    {
      "cell_type": "code",
      "metadata": {
        "id": "z5pUW73p_grJ"
      },
      "source": [
        "to_submit = test_df[[\"id\", \"Predictions\"]]"
      ],
      "execution_count": null,
      "outputs": []
    },
    {
      "cell_type": "code",
      "metadata": {
        "id": "BpK3r9IE_hfs"
      },
      "source": [
        "to_submit.to_csv(\"logreg_cols_removed_submission.csv\", index=False)"
      ],
      "execution_count": null,
      "outputs": []
    },
    {
      "cell_type": "markdown",
      "metadata": {
        "id": "Z_uC3yv0l-jv"
      },
      "source": [
        "### Tried SVC changing parameters "
      ]
    },
    {
      "cell_type": "code",
      "metadata": {
        "colab": {
          "base_uri": "https://localhost:8080/"
        },
        "id": "9Zk_B2BLmBhs",
        "outputId": "9e050285-4907-44d7-ad74-639971d0ade5"
      },
      "source": [
        "from sklearn.svm import SVC\n",
        "\n",
        "svclassifier = SVC(kernel='linear', class_weight='balanced', probability=True, random_state = 20)\n",
        "svclassifier.fit(x_train, y_train)\n",
        "\n",
        "y_svm_train_pred = svclassifier.predict(x_train)\n",
        "print(\"SVM ROC Train Accuracy:\", metrics.roc_auc_score(y_train, y_svm_train_pred))"
      ],
      "execution_count": null,
      "outputs": [
        {
          "output_type": "stream",
          "name": "stdout",
          "text": [
            "SVM ROC Train Accuracy: 0.8099949902239183\n"
          ]
        }
      ]
    },
    {
      "cell_type": "code",
      "metadata": {
        "colab": {
          "base_uri": "https://localhost:8080/"
        },
        "id": "rm1R2hLc_rB6",
        "outputId": "c14d6306-7794-4286-d33f-16ff97ada6fc"
      },
      "source": [
        "x_train.shape"
      ],
      "execution_count": null,
      "outputs": [
        {
          "output_type": "execute_result",
          "data": {
            "text/plain": [
              "(22725, 41)"
            ]
          },
          "metadata": {},
          "execution_count": 65
        }
      ]
    },
    {
      "cell_type": "code",
      "metadata": {
        "colab": {
          "base_uri": "https://localhost:8080/"
        },
        "id": "3TFH2ntdrK8C",
        "outputId": "7b4dd95b-e72a-43f4-916b-8915398b5d5d"
      },
      "source": [
        "svclassifier.fit_status_"
      ],
      "execution_count": null,
      "outputs": [
        {
          "output_type": "execute_result",
          "data": {
            "text/plain": [
              "0"
            ]
          },
          "metadata": {},
          "execution_count": 66
        }
      ]
    },
    {
      "cell_type": "markdown",
      "metadata": {
        "id": "ky0R2dCCzLNL"
      },
      "source": [
        "### Tried with LinearSVC"
      ]
    },
    {
      "cell_type": "code",
      "metadata": {
        "colab": {
          "base_uri": "https://localhost:8080/"
        },
        "id": "n9wc5NGwxyUZ",
        "outputId": "c018d78e-8575-4f2b-abd1-847f50264527"
      },
      "source": [
        "from sklearn.svm import LinearSVC\n",
        "\n",
        "svcLinear = LinearSVC(max_iter = 1000000000, class_weight = 'balanced')\n",
        "svcLinear.fit(x_train, y_train)\n",
        "\n",
        "y_svclin_train_pred = svcLinear.predict(x_train)\n",
        "\n",
        "print(y_svclin_train_pred)\n",
        "\n",
        "print(\"SVM ROC Train Accuracy:\", metrics.roc_auc_score(y_train, y_svclin_train_pred))"
      ],
      "execution_count": null,
      "outputs": [
        {
          "output_type": "stream",
          "name": "stdout",
          "text": [
            "[1 0 0 ... 0 0 1]\n",
            "SVM ROC Train Accuracy: 0.8224044700083297\n"
          ]
        }
      ]
    },
    {
      "cell_type": "markdown",
      "metadata": {
        "id": "Mj_hj0uMzT_W"
      },
      "source": [
        "### Tried Stacking LogReg, SVC and LinearSVC"
      ]
    },
    {
      "cell_type": "code",
      "metadata": {
        "id": "6KJmpnNGV5zS"
      },
      "source": [
        "from sklearn.ensemble import StackingClassifier\n",
        "\n",
        "models = [('logReg', LogisticRegression(max_iter = 300)), \n",
        "                    ('svc', SVC(kernel='linear', class_weight='balanced', probability=True, random_state = 20)),\n",
        "                    ('svcLin', LinearSVC(max_iter = 1000000000, class_weight = 'balanced'))]\n",
        "\n",
        "stacking = StackingClassifier(estimators=models)\n",
        "\n",
        "stacking.fit(x_train, y_train)\n",
        "\n",
        "print(metrics.roc_auc_score(y_train, stacking.predict(x_train)))"
      ],
      "execution_count": null,
      "outputs": []
    },
    {
      "cell_type": "markdown",
      "metadata": {
        "id": "v9hppspfze_d"
      },
      "source": [
        "### Tried Stacking LogReg and LinearSVC"
      ]
    },
    {
      "cell_type": "code",
      "metadata": {
        "id": "EHTj4gzBiWwl"
      },
      "source": [
        "# from sklearn.ensemble import StackingClassifier\n",
        "\n",
        "# models = [('svc', SVC(kernel='linear', class_weight='balanced', probability=True, random_state = 20)),\n",
        "#                     ('svcLin', LinearSVC(max_iter = 1000000000, class_weight = 'balanced'))]\n",
        "\n",
        "# stacking_attempt2 = StackingClassifier(estimators=models)\n",
        "\n",
        "# stacking_attempt2.fit(x_train, y_train)\n",
        "\n",
        "# print(metrics.roc_auc_score(y_train, stacking_attempt2.predict(x_train)))"
      ],
      "execution_count": null,
      "outputs": []
    },
    {
      "cell_type": "code",
      "metadata": {
        "id": "TLjJ1bQB5Hx2"
      },
      "source": [
        "print(x_train.shape, std_features.shape)\n",
        "\n",
        "svclassifier.predict_proba(x_train)"
      ],
      "execution_count": null,
      "outputs": []
    },
    {
      "cell_type": "code",
      "metadata": {
        "id": "0aHQDGxk6UX1"
      },
      "source": [
        "y_pred = [prob_1 for prob_0, prob_1 in svclassifier.predict_proba(std_features)]"
      ],
      "execution_count": null,
      "outputs": []
    },
    {
      "cell_type": "markdown",
      "metadata": {
        "id": "t2eWKRp5zlGR"
      },
      "source": [
        "### Submission code"
      ]
    },
    {
      "cell_type": "code",
      "metadata": {
        "id": "p38ux3I66UX1"
      },
      "source": [
        "test_df.drop('Predictions', axis = 1)\n",
        "test_df[\"Predictions\"] = y_pred"
      ],
      "execution_count": null,
      "outputs": []
    },
    {
      "cell_type": "code",
      "metadata": {
        "id": "C6rjLWqP6UX1"
      },
      "source": [
        "len(test_df)"
      ],
      "execution_count": null,
      "outputs": []
    },
    {
      "cell_type": "code",
      "metadata": {
        "id": "k86t9VHl6UX2"
      },
      "source": [
        "len(test_df[test_df['Predictions'] == 0])"
      ],
      "execution_count": null,
      "outputs": []
    },
    {
      "cell_type": "code",
      "metadata": {
        "id": "H18KUtsU6UX2"
      },
      "source": [
        "to_submit = test_df[[\"id\", \"Predictions\"]]"
      ],
      "execution_count": null,
      "outputs": []
    },
    {
      "cell_type": "code",
      "metadata": {
        "id": "meO_0vsN6UX4"
      },
      "source": [
        "to_submit.to_csv(\"svreg_cols_removed_prob1_submission.csv\", index=False)"
      ],
      "execution_count": null,
      "outputs": []
    },
    {
      "cell_type": "code",
      "metadata": {
        "id": "Nxv4g66YAZl-"
      },
      "source": [
        ""
      ],
      "execution_count": null,
      "outputs": []
    },
    {
      "cell_type": "code",
      "metadata": {
        "colab": {
          "base_uri": "https://localhost:8080/"
        },
        "id": "kQfoZzKOAbPm",
        "outputId": "cd8583ce-ad27-4f52-dd8b-0f5a7ad2f4cf"
      },
      "source": [
        "\n",
        "# cols_to_drop = ['Unmarried','Own-child',  'Not-in-family', 'Tech-support','Protective-serv','Prof-specialty',  'Exec-managerial', \n",
        "#                 'Married but Spouse Absent', 'Divorced', 'Assoc-voc', 'Assoc-acdm', 'HS-grad',  'Widowed'] \n",
        "# cols_to_drop = ['Unmarried','Own-child',  'Not-in-family','Tech-support', 'Protective-serv', 'Prof-specialty', 'Handlers-cleaners'] ROC score: 0.7589440794409951\n",
        "# cols_to_drop = ['Unmarried','Own-child',  'Not-in-family','Tech-support', 'Protective-serv', 'Prof-specialty', 'Machine-op-inspct'] ROC score: 0.758554251409927\n",
        "# cols_to_drop = ['Wife', 'Unmarried', 'Own-child','Other-relative', 'Not-in-family', 'Transport-moving', 'Tech-support', 'Sales']  ROC score: 0.7607927985998456\n",
        "# cols_to_drop = ['Wife', 'Unmarried', 'Own-child', 'Not-in-family', 'Tech-support', 'Protective-serv'] ROC score: 0.7611869508787463\n",
        "# cols_to_drop = ['Wife', 'Unmarried', 'Own-child', 'Not-in-family', 'Tech-support', 'Protective-serv', 'Prof-specialty'] ROC score: 0.7614318345684415\n",
        "# cols_to_drop = ['Wife', 'Unmarried', 'Own-child', 'Not-in-family','Tech-support', 'Protective-serv', 'Prof-specialty'] + ['Predictions'] ROC score: 0.7616723940103038\n",
        "# cols_to_drop = ['Unmarried', 'Own-child', 'Not-in-family','Tech-support', 'Protective-serv', 'Prof-specialty'] + ['Predictions'] ROC score: 0.7623940723358907\n",
        "# cols_to_drop = ['Unmarried','Own-child',  'Not-in-family', 'Tech-support','Protective-serv', 'Prof-specialty', 'Exec-managerial'] ROC score: 0.764038588550264\n",
        "# cols_to_drop = ['Unmarried', 'Own-child',  'Not-in-family', 'Tech-support','Protective-serv','Prof-specialty',  'Exec-managerial', 'Married but Spouse Absent', 'Separated'] ROC score: 0.7641298794029205\n",
        "cols_to_drop = ['Unmarried','Own-child',  'Not-in-family', 'Tech-support','Protective-serv','Prof-specialty',  'Exec-managerial', \n",
        "                'Married but Spouse Absent', 'Separated', 'Divorced']  \n",
        "# cols_to_drop = ['Unmarried','Own-child',  'Not-in-family', 'Tech-support','Protective-serv','Prof-specialty', 'Exec-managerial', \n",
        "#                 'Married but Spouse Absent', 'Divorced', 'Assoc-voc', 'Assoc-acdm'] \n",
        "\n",
        "std_features = census_df.drop(['Predictions'] + cols_to_drop, axis = 1)\n",
        "std_labels = census_df['Predictions']\n",
        "\n",
        "std_features = StandardScaler().fit_transform(std_features)\n",
        "\n",
        "from sklearn.linear_model import LogisticRegression\n",
        "\n",
        "x_train = std_features\n",
        "y_train = std_labels\n",
        "\n",
        "logreg = LogisticRegression(max_iter = 300)\n",
        "\n",
        "logreg.fit(x_train,y_train)\n",
        "\n",
        "y_train_pred = logreg.predict(x_train)\n",
        "\n",
        "print(\"ROC score:\", metrics.roc_auc_score(y_train, y_train_pred))"
      ],
      "execution_count": null,
      "outputs": [
        {
          "output_type": "stream",
          "name": "stdout",
          "text": [
            "ROC score: 0.7644037519608903\n"
          ]
        }
      ]
    },
    {
      "cell_type": "code",
      "metadata": {
        "id": "w8YWCBFNLpeO"
      },
      "source": [
        ""
      ],
      "execution_count": null,
      "outputs": []
    },
    {
      "cell_type": "code",
      "metadata": {
        "id": "ZNA4PGX9Lpvz"
      },
      "source": [
        "from sklearn.svm import LinearSVC\n",
        "\n",
        "svcLinear = LinearSVC(max_iter = 1000000000, class_weight = 'balanced')\n",
        "svcLinear.fit(x_train, y_train)\n",
        "\n",
        "y_svclin_train_pred = svcLinear.predict(x_train)\n",
        "\n",
        "print(y_svclin_train_pred)\n",
        "\n",
        "print(\"SVM ROC Train Accuracy:\", metrics.roc_auc_score(y_train, y_svclin_train_pred))"
      ],
      "execution_count": null,
      "outputs": []
    },
    {
      "cell_type": "code",
      "metadata": {
        "id": "cZbThzzXL0rn"
      },
      "source": [
        ""
      ],
      "execution_count": null,
      "outputs": []
    },
    {
      "cell_type": "code",
      "metadata": {
        "id": "5odhf2-iL08A"
      },
      "source": [
        "print(x_train.shape, std_features.shape)\n",
        "\n",
        "svclassifier.predict_proba(x_train)"
      ],
      "execution_count": null,
      "outputs": []
    },
    {
      "cell_type": "code",
      "metadata": {
        "id": "fBt-0ZeZL08B"
      },
      "source": [
        "y_pred = [prob_1 for prob_0, prob_1 in svclassifier.predict_proba(std_features)]"
      ],
      "execution_count": null,
      "outputs": []
    }
  ]
}